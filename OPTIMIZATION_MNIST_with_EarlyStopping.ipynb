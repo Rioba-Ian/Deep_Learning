{
  "nbformat": 4,
  "nbformat_minor": 0,
  "metadata": {
    "colab": {
      "name": "OPTIMIZATION_MNIST_with_EarlyStopping.ipynb",
      "provenance": [],
      "authorship_tag": "ABX9TyOdCa2Ic+IGOUjiKmzgDjr6",
      "include_colab_link": true
    },
    "kernelspec": {
      "name": "python3",
      "display_name": "Python 3"
    },
    "language_info": {
      "name": "python"
    },
    "accelerator": "TPU"
  },
  "cells": [
    {
      "cell_type": "markdown",
      "metadata": {
        "id": "view-in-github",
        "colab_type": "text"
      },
      "source": [
        "<a href=\"https://colab.research.google.com/github/Rioba-Ian/Deep_Learning/blob/main/OPTIMIZATION_MNIST_with_EarlyStopping.ipynb\" target=\"_parent\"><img src=\"https://colab.research.google.com/assets/colab-badge.svg\" alt=\"Open In Colab\"/></a>"
      ]
    },
    {
      "cell_type": "markdown",
      "metadata": {
        "id": "hgGllNG6pw7z"
      },
      "source": [
        "# Optimising a nueral network?\n",
        "OPtimising a neural network or any model is like tuning a radio. There might be a million knobs to tune at the same time.\n"
      ]
    },
    {
      "cell_type": "code",
      "metadata": {
        "colab": {
          "base_uri": "https://localhost:8080/",
          "height": 501
        },
        "id": "8iMSo6h-pg8d",
        "outputId": "273f2bd2-5ed9-4047-bc40-e059f020931b"
      },
      "source": [
        "from IPython.display import Image\n",
        "Image(url='https://media.giphy.com/media/YUuzJrSC7DJJEfxM8b/giphy.gif')"
      ],
      "execution_count": 1,
      "outputs": [
        {
          "output_type": "execute_result",
          "data": {
            "text/html": [
              "<img src=\"https://media.giphy.com/media/YUuzJrSC7DJJEfxM8b/giphy.gif\"/>"
            ],
            "text/plain": [
              "<IPython.core.display.Image object>"
            ]
          },
          "metadata": {
            "tags": []
          },
          "execution_count": 1
        }
      ]
    },
    {
      "cell_type": "markdown",
      "metadata": {
        "id": "TYg-KUfkrLAm"
      },
      "source": [
        "**Topics in Optimizing a neural network**\n",
        "\n",
        "1. Understanding overfitting and underfitting.\n",
        "2. Early stoppping\n",
        "3. Regularisation\n",
        "4. Dropout\n",
        "5. Understanding Local and Global Minima\n",
        "6. Batch vs Stochastic Gradient Descent\n",
        "7. Random Initialization/Restart\n",
        "8. Vanishing Gradient\n",
        "9. Other Activation Functions\n"
      ]
    },
    {
      "cell_type": "markdown",
      "metadata": {
        "id": "mTU604vLxZRN"
      },
      "source": [
        "# Understanding overfitting and underfitting \n",
        "Overfitting is a scenario where the model performs extremely well on the training data but performs poorly on data seen during training. This means that the model has memorised the training data instead of learning the relationship between the features and labels. For the bias/variance tradeoff, overfitting is a situation when the model has high variance, memorizing the noise in the training dataset.\n",
        "<br>\n",
        "\n",
        "Underfitting is the counter to overfitting, the model produces a high bias. The situation means that the model is not sufficiently complex to capture the underlying relationship between the features and labels/or your model is strictly regularized. "
      ]
    },
    {
      "cell_type": "markdown",
      "metadata": {
        "id": "WLk4xKZOlXFA"
      },
      "source": [
        "## Tensorboard\n",
        "Tensorboard is an interface used in visualizing the graph and other tools in order to understand, debug and optimize a model. It is a UI for tensorflow but can be used for Keras and Pytorch."
      ]
    },
    {
      "cell_type": "markdown",
      "metadata": {
        "id": "iRlWnAC5luAe"
      },
      "source": [
        "## Validation data\n",
        "\n",
        "The \"validation set\" is used with the term \"test set\" and referes to a sample of the dataset held back from training the model. \n",
        "<br>\n",
        "We use the vvaidation to test the trained on unseen data. "
      ]
    },
    {
      "cell_type": "markdown",
      "metadata": {
        "id": "ED525gV2mSlF"
      },
      "source": [
        "## Strategies to avoid overfitting/underfitting\n",
        "You can combat overfitting by reducing the complexity of the model. We can do this by:\n",
        "1. Use fewer layers/ shallower networks, fewer neurons per layer.\n",
        "2. Using dropouts.\n",
        "3. Using regularization\n",
        "4. Early stopping in some cases. \n",
        "<br>\n",
        "\n",
        "You can combat underfitting by:\n",
        "* increasing the complexity of the model. By indreasing layers and number of neurons. More layers make the model learn the sophsicated relationships and perhaps perform well on difficult real-work tasks."
      ]
    },
    {
      "cell_type": "markdown",
      "metadata": {
        "id": "Rd_VIieQnEcV"
      },
      "source": [
        "# Applying using the MNIST dataset"
      ]
    },
    {
      "cell_type": "code",
      "metadata": {
        "id": "Zft0-vfDqNzW"
      },
      "source": [
        "import numpy as np\n",
        "import pandas as pd\n",
        "import matplotlib\n",
        "import matplotlib.pyplot as plt\n",
        "# so that graphs are loaded into the notebook only\n",
        "%matplotlib inline\n",
        "\n",
        "import tensorflow as tf"
      ],
      "execution_count": 2,
      "outputs": []
    },
    {
      "cell_type": "code",
      "metadata": {
        "colab": {
          "base_uri": "https://localhost:8080/"
        },
        "id": "dKb3PYbJneq1",
        "outputId": "46f14d0a-8c5f-4e92-d737-12923c6a5209"
      },
      "source": [
        "# loading the MNIST dataset from tensorflow library\n",
        "from tensorflow.keras.datasets import mnist \n",
        "\n",
        "(X_train, y_train), (X_test, y_test) = mnist.load_data()"
      ],
      "execution_count": 3,
      "outputs": [
        {
          "output_type": "stream",
          "text": [
            "Downloading data from https://storage.googleapis.com/tensorflow/tf-keras-datasets/mnist.npz\n",
            "11493376/11490434 [==============================] - 0s 0us/step\n"
          ],
          "name": "stdout"
        }
      ]
    },
    {
      "cell_type": "code",
      "metadata": {
        "colab": {
          "base_uri": "https://localhost:8080/",
          "height": 858
        },
        "id": "MF-yd0V0n2Zo",
        "outputId": "0dfb51e3-405e-466c-a317-76f7e81e134c"
      },
      "source": [
        "# let's see the first 3 images and their labels \n",
        "images = X_train[:3]\n",
        "labels = y_train[:3]\n",
        "\n",
        "for index, image in enumerate(images):\n",
        "    print('label:', labels[index])\n",
        "    print('Digit in the image', np.argmax(labels[index])) # argmax will take image with highest probability\n",
        "    plt.imshow(image.reshape(28,28), cmap='gray')\n",
        "    plt.show()"
      ],
      "execution_count": 4,
      "outputs": [
        {
          "output_type": "stream",
          "text": [
            "label: 5\n",
            "Digit in the image 0\n"
          ],
          "name": "stdout"
        },
        {
          "output_type": "display_data",
          "data": {
            "image/png": "[encoded data removed]",
            "text/plain": [
              "<Figure size 432x288 with 1 Axes>"
            ]
          },
          "metadata": {
            "tags": [],
            "needs_background": "light"
          }
        },
        {
          "output_type": "stream",
          "text": [
            "label: 0\n",
            "Digit in the image 0\n"
          ],
          "name": "stdout"
        },
        {
          "output_type": "display_data",
          "data": {
            "image/png": "[encoded data removed]",
            "text/plain": [
              "<Figure size 432x288 with 1 Axes>"
            ]
          },
          "metadata": {
            "tags": [],
            "needs_background": "light"
          }
        },
        {
          "output_type": "stream",
          "text": [
            "label: 4\n",
            "Digit in the image 0\n"
          ],
          "name": "stdout"
        },
        {
          "output_type": "display_data",
          "data": {
            "image/png": "[encoded data removed]",
            "text/plain": [
              "<Figure size 432x288 with 1 Axes>"
            ]
          },
          "metadata": {
            "tags": [],
            "needs_background": "light"
          }
        }
      ]
    },
    {
      "cell_type": "code",
      "metadata": {
        "id": "n2hiB2r5ojPx"
      },
      "source": [
        "from tensorflow.keras.models import Sequential\n",
        "from tensorflow.keras.layers import Dense \n",
        "from tensorflow.keras.optimizers import SGD \n",
        "from tensorflow.keras.callbacks import TensorBoard \n",
        "from tensorflow.keras.utils import to_categorical \n",
        "from datetime import datetime "
      ],
      "execution_count": 5,
      "outputs": []
    },
    {
      "cell_type": "code",
      "metadata": {
        "id": "ZA1bY2A8pR2u"
      },
      "source": [
        "#  why did we reshape?\n",
        "X_train = X_train.reshape(60000, 784)\n",
        "X_test = X_test.reshape(10000, 784)\n"
      ],
      "execution_count": 6,
      "outputs": []
    },
    {
      "cell_type": "code",
      "metadata": {
        "id": "CqYjzUgfphOK"
      },
      "source": [
        "y_train = to_categorical(y_train, 10)\n",
        "y_test = to_categorical(y_test, 10)"
      ],
      "execution_count": 7,
      "outputs": []
    },
    {
      "cell_type": "markdown",
      "metadata": {
        "id": "dLqLi4Cdpunc"
      },
      "source": [
        "We shall begin with a neural network with only one input and output layer"
      ]
    },
    {
      "cell_type": "code",
      "metadata": {
        "id": "eQN_rwYXpsZg"
      },
      "source": [
        "# sequential just symbolises\n",
        "model1 = Sequential()\n",
        "# input layer\n",
        "model1.add(Dense(50, activation='relu', input_shape=(784, )))\n",
        "\n",
        "## we will use the softmax activation because this is a multiclass classification\n",
        "# problem\n",
        "# Softmax converts numbers into probabilities\n",
        "model1.add(Dense(10, activation='softmax'))\n",
        "model1.compile(loss='categorical_crossentropy', optimizer=SGD(lr=0.001),\n",
        "               metrics=['accuracy'])"
      ],
      "execution_count": 8,
      "outputs": []
    },
    {
      "cell_type": "code",
      "metadata": {
        "id": "vhmA1UoBqw3o"
      },
      "source": [
        "# for tensorboard visualization \n",
        "logdir = 'logs/'+ datetime.now().strftime('%Y%m%d-%H%M%S')\n",
        "tensorboard_callback = TensorBoard(log_dir=logdir)"
      ],
      "execution_count": 9,
      "outputs": []
    },
    {
      "cell_type": "code",
      "metadata": {
        "colab": {
          "base_uri": "https://localhost:8080/"
        },
        "id": "BsLeZinDrRqn",
        "outputId": "c538e52b-3eb7-430d-9857-62535c8121eb"
      },
      "source": [
        "training_history = model1.fit(\n",
        "    X_train,\n",
        "    y_train,\n",
        "    batch_size = 32,\n",
        "    verbose = 1,\n",
        "    epochs = 10,\n",
        "    validation_data = (X_test, y_test),\n",
        "    callbacks = [tensorboard_callback],\n",
        ")"
      ],
      "execution_count": 10,
      "outputs": [
        {
          "output_type": "stream",
          "text": [
            "Epoch 1/10\n",
            "1875/1875 [==============================] - 4s 2ms/step - loss: 4.1329 - accuracy: 0.3634 - val_loss: 1.1425 - val_accuracy: 0.6266\n",
            "Epoch 2/10\n",
            "1875/1875 [==============================] - 3s 2ms/step - loss: 1.1536 - accuracy: 0.6322 - val_loss: 0.9595 - val_accuracy: 0.6902\n",
            "Epoch 3/10\n",
            "1875/1875 [==============================] - 3s 2ms/step - loss: 0.9126 - accuracy: 0.7207 - val_loss: 0.7609 - val_accuracy: 0.8120\n",
            "Epoch 4/10\n",
            "1875/1875 [==============================] - 3s 2ms/step - loss: 0.6982 - accuracy: 0.8113 - val_loss: 0.6729 - val_accuracy: 0.8003\n",
            "Epoch 5/10\n",
            "1875/1875 [==============================] - 3s 2ms/step - loss: 0.6085 - accuracy: 0.8293 - val_loss: 0.6336 - val_accuracy: 0.8491\n",
            "Epoch 6/10\n",
            "1875/1875 [==============================] - 3s 2ms/step - loss: 0.5517 - accuracy: 0.8457 - val_loss: 0.5479 - val_accuracy: 0.8542\n",
            "Epoch 7/10\n",
            "1875/1875 [==============================] - 3s 2ms/step - loss: 0.5148 - accuracy: 0.8537 - val_loss: 0.6166 - val_accuracy: 0.8250\n",
            "Epoch 8/10\n",
            "1875/1875 [==============================] - 3s 2ms/step - loss: 0.4874 - accuracy: 0.8622 - val_loss: 0.5557 - val_accuracy: 0.8380\n",
            "Epoch 9/10\n",
            "1875/1875 [==============================] - 3s 2ms/step - loss: 0.4508 - accuracy: 0.8715 - val_loss: 0.4628 - val_accuracy: 0.8863\n",
            "Epoch 10/10\n",
            "1875/1875 [==============================] - 3s 2ms/step - loss: 0.4334 - accuracy: 0.8794 - val_loss: 0.4758 - val_accuracy: 0.8743\n"
          ],
          "name": "stdout"
        }
      ]
    },
    {
      "cell_type": "markdown",
      "metadata": {
        "id": "3InYu9VKsFr7"
      },
      "source": [
        "Adding more layers to model"
      ]
    },
    {
      "cell_type": "code",
      "metadata": {
        "id": "JxD6tlUvrr9U"
      },
      "source": [
        "model2 = Sequential()\n",
        "# 10 neurons layer\n",
        "model2.add(Dense(10, activation='relu', input_shape=(784, )))\n",
        "\n",
        "# many 512 neuron layer\n",
        "model2.add(Dense(512, activation='relu'))\n",
        "model2.add(Dense(512, activation='relu'))\n",
        "model2.add(Dense(512, activation='relu'))\n",
        "model2.add(Dense(512, activation='relu'))\n",
        "model2.add(Dense(512, activation='relu'))\n",
        "model2.add(Dense(512, activation='relu'))\n",
        "model2.add(Dense(512, activation='relu'))\n",
        "model2.add(Dense(10, activation='softmax'))\n",
        "model2.compile(loss='categorical_crossentropy', optimizer=SGD(lr=0.001),\n",
        "               metrics=['accuracy'])"
      ],
      "execution_count": 11,
      "outputs": []
    },
    {
      "cell_type": "code",
      "metadata": {
        "id": "kgxcmobNs8l1"
      },
      "source": [
        "logdir = 'logs/' + datetime.now().strftime(\"%Y%m%d-%H%M%S\")\n",
        "tensorboard_callback = TensorBoard(log_dir=logdir)"
      ],
      "execution_count": 12,
      "outputs": []
    },
    {
      "cell_type": "code",
      "metadata": {
        "colab": {
          "base_uri": "https://localhost:8080/"
        },
        "id": "y97h_xuktUJX",
        "outputId": "2814c6fa-2475-4633-ff1b-5578d9613278"
      },
      "source": [
        "training_history = model2.fit(\n",
        "    X_train, \n",
        "    y_train,\n",
        "    batch_size = 32,\n",
        "    verbose = 1,\n",
        "    epochs = 10,\n",
        "    validation_data = (X_test, y_test),\n",
        "    callbacks = [tensorboard_callback]\n",
        ")"
      ],
      "execution_count": 13,
      "outputs": [
        {
          "output_type": "stream",
          "text": [
            "Epoch 1/10\n",
            "1875/1875 [==============================] - 38s 20ms/step - loss: 1.0372 - accuracy: 0.6461 - val_loss: 0.3713 - val_accuracy: 0.8809\n",
            "Epoch 2/10\n",
            "1875/1875 [==============================] - 37s 20ms/step - loss: 0.3464 - accuracy: 0.8913 - val_loss: 0.3011 - val_accuracy: 0.9099\n",
            "Epoch 3/10\n",
            "1875/1875 [==============================] - 37s 20ms/step - loss: 0.2640 - accuracy: 0.9175 - val_loss: 0.2525 - val_accuracy: 0.9239\n",
            "Epoch 4/10\n",
            "1875/1875 [==============================] - 38s 20ms/step - loss: 0.2169 - accuracy: 0.9318 - val_loss: 0.2172 - val_accuracy: 0.9338\n",
            "Epoch 5/10\n",
            "1875/1875 [==============================] - 38s 20ms/step - loss: 0.1953 - accuracy: 0.9391 - val_loss: 0.2121 - val_accuracy: 0.9344\n",
            "Epoch 6/10\n",
            "1875/1875 [==============================] - 38s 20ms/step - loss: 0.1726 - accuracy: 0.9457 - val_loss: 0.1826 - val_accuracy: 0.9432\n",
            "Epoch 7/10\n",
            "1875/1875 [==============================] - 38s 20ms/step - loss: 0.1565 - accuracy: 0.9509 - val_loss: 0.1851 - val_accuracy: 0.9429\n",
            "Epoch 8/10\n",
            "1875/1875 [==============================] - 38s 20ms/step - loss: 0.1437 - accuracy: 0.9551 - val_loss: 0.1848 - val_accuracy: 0.9448\n",
            "Epoch 9/10\n",
            "1875/1875 [==============================] - 38s 20ms/step - loss: 0.1306 - accuracy: 0.9577 - val_loss: 0.1718 - val_accuracy: 0.9459\n",
            "Epoch 10/10\n",
            "1875/1875 [==============================] - 38s 20ms/step - loss: 0.1217 - accuracy: 0.9597 - val_loss: 0.1733 - val_accuracy: 0.9472\n"
          ],
          "name": "stdout"
        }
      ]
    },
    {
      "cell_type": "markdown",
      "metadata": {
        "id": "McOyfmnwv010"
      },
      "source": [
        "Adding more layers increases the accuracy but might lead to overfitting or generalisation error"
      ]
    },
    {
      "cell_type": "markdown",
      "metadata": {
        "id": "8iOckupQv_8m"
      },
      "source": [
        "# Early stopping\n",
        "When training a large network, there will be a point during the training when the model will stop generalizing and start learning statistical noise in the trainind dataset. \n",
        "<br>\n",
        "The overfitting of the training dataset will result in an increase in generalization error, making the model less useful at making predictions on new data.\n",
        "<br>\n",
        "The challenge is to train a network long enough that it is fully capable to learn the mappings from the inputs to outputs, but not training the mdoel so long that it overfits the training data.\n",
        "<br>\n",
        "\n",
        "How to get through this:\n",
        "<br>\n",
        "* Either limit the number of epochs\n",
        "* Use EarlyStopping criteria.\n",
        "<br>\n",
        "EarlyStopping will stop training at the point when the performance on a validation dataset starts to degrade.\n"
      ]
    },
    {
      "cell_type": "code",
      "metadata": {
        "id": "FafdYg9htoY1"
      },
      "source": [
        "from tensorflow.keras.callbacks import EarlyStopping\n",
        "es = EarlyStopping(monitor='val_loss', mode='min', verbose=1, patience=5)"
      ],
      "execution_count": 18,
      "outputs": []
    },
    {
      "cell_type": "markdown",
      "metadata": {
        "id": "L_xixp6DxYOk"
      },
      "source": [
        "Monitor for metric choosing, val_loss, val_acc\n",
        "<br>\n",
        "mode: by default it is auto and knows that you want to minimize loss or maximize accuracy\n",
        "<br>\n",
        "patience: number to epochs to wait before stopping it. If we are chasing the validation loss and we see it is not reducing from the last 50 epochs then we stop training"
      ]
    },
    {
      "cell_type": "code",
      "metadata": {
        "id": "kJYqynN5xXSz"
      },
      "source": [
        "model3 = Sequential()\n",
        "model3.add(Dense(128, activation='relu', input_shape=(784, )))\n",
        "model3.add(Dense(256, activation='relu'))\n",
        "model3.add(Dense(128, activation='relu'))\n",
        "model3.add(Dense(10, activation='softmax'))\n",
        "model3.compile(loss='categorical_crossentropy', optimizer='adam',\n",
        "               metrics=['accuracy'])"
      ],
      "execution_count": 20,
      "outputs": []
    },
    {
      "cell_type": "code",
      "metadata": {
        "id": "uqVv0j04yhU1"
      },
      "source": [
        "logdir = 'logs/' + datetime.now().strftime(\"%Y%m%d-%H%M%S\")\n",
        "tensorboard_callback = TensorBoard(log_dir=logdir)"
      ],
      "execution_count": 21,
      "outputs": []
    },
    {
      "cell_type": "code",
      "metadata": {
        "colab": {
          "base_uri": "https://localhost:8080/"
        },
        "id": "GNLJfzG9yu8F",
        "outputId": "5352e7b3-0eb8-47a4-e3ec-cd7045ec22b9"
      },
      "source": [
        "training_history = model3.fit(\n",
        "    X_train,\n",
        "    y_train,\n",
        "    batch_size = 32,\n",
        "    verbose =1,\n",
        "    epochs =10,\n",
        "    validation_data = (X_test, y_test),\n",
        "    callbacks = [tensorboard_callback, es]\n",
        ")"
      ],
      "execution_count": 22,
      "outputs": [
        {
          "output_type": "stream",
          "text": [
            "Epoch 1/10\n",
            "1875/1875 [==============================] - 7s 4ms/step - loss: 2.3831 - accuracy: 0.8274 - val_loss: 0.2488 - val_accuracy: 0.9333\n",
            "Epoch 2/10\n",
            "1875/1875 [==============================] - 6s 3ms/step - loss: 0.2167 - accuracy: 0.9405 - val_loss: 0.1976 - val_accuracy: 0.9475\n",
            "Epoch 3/10\n",
            "1875/1875 [==============================] - 6s 3ms/step - loss: 0.1695 - accuracy: 0.9522 - val_loss: 0.1811 - val_accuracy: 0.9551\n",
            "Epoch 4/10\n",
            "1875/1875 [==============================] - 6s 3ms/step - loss: 0.1388 - accuracy: 0.9608 - val_loss: 0.1912 - val_accuracy: 0.9521\n",
            "Epoch 5/10\n",
            "1875/1875 [==============================] - 6s 3ms/step - loss: 0.1183 - accuracy: 0.9659 - val_loss: 0.1296 - val_accuracy: 0.9626\n",
            "Epoch 6/10\n",
            "1875/1875 [==============================] - 6s 3ms/step - loss: 0.0950 - accuracy: 0.9728 - val_loss: 0.1384 - val_accuracy: 0.9658\n",
            "Epoch 7/10\n",
            "1875/1875 [==============================] - 6s 3ms/step - loss: 0.0895 - accuracy: 0.9754 - val_loss: 0.1372 - val_accuracy: 0.9674\n",
            "Epoch 8/10\n",
            "1875/1875 [==============================] - 6s 3ms/step - loss: 0.0804 - accuracy: 0.9789 - val_loss: 0.1240 - val_accuracy: 0.9705\n",
            "Epoch 9/10\n",
            "1875/1875 [==============================] - 6s 3ms/step - loss: 0.0756 - accuracy: 0.9784 - val_loss: 0.1248 - val_accuracy: 0.9739\n",
            "Epoch 10/10\n",
            "1875/1875 [==============================] - 6s 3ms/step - loss: 0.0648 - accuracy: 0.9822 - val_loss: 0.1086 - val_accuracy: 0.9737\n"
          ],
          "name": "stdout"
        }
      ]
    },
    {
      "cell_type": "code",
      "metadata": {
        "colab": {
          "base_uri": "https://localhost:8080/",
          "height": 558
        },
        "id": "_gZ4dNjN0TVw",
        "outputId": "797572f9-2151-4869-b136-51b3c4eea424"
      },
      "source": [
        "!wget -nc https://raw.githubusercontent.com/brpy/colab-pdf/master/colab_pdf.py\n",
        "from colab_pdf import colab_pdf\n",
        "colab_pdf('OPTIMIZATION_MNIST_with_EarlyStopping.ipynb')"
      ],
      "execution_count": 23,
      "outputs": [
        {
          "output_type": "stream",
          "text": [
            "--2021-04-16 03:56:30--  https://raw.githubusercontent.com/brpy/colab-pdf/master/colab_pdf.py\n",
            "Resolving raw.githubusercontent.com (raw.githubusercontent.com)... 185.199.110.133, 185.199.109.133, 185.199.111.133, ...\n",
            "Connecting to raw.githubusercontent.com (raw.githubusercontent.com)|185.199.110.133|:443... connected.\n",
            "HTTP request sent, awaiting response... 200 OK\n",
            "Length: 1864 (1.8K) [text/plain]\n",
            "Saving to: ‘colab_pdf.py’\n",
            "\n",
            "colab_pdf.py        100%[===================>]   1.82K  --.-KB/s    in 0s      \n",
            "\n",
            "2021-04-16 03:56:31 (34.7 MB/s) - ‘colab_pdf.py’ saved [1864/1864]\n",
            "\n",
            "Mounted at /content/drive/\n",
            "\n",
            "WARNING: apt does not have a stable CLI interface. Use with caution in scripts.\n",
            "\n",
            "\n",
            "WARNING: apt does not have a stable CLI interface. Use with caution in scripts.\n",
            "\n",
            "Extracting templates from packages: 100%\n",
            "[NbConvertApp] Converting notebook /content/drive/My Drive/Colab Notebooks/OPTIMIZATION_MNIST_with_EarlyStopping.ipynb to pdf\n",
            "[NbConvertApp] Support files will be in OPTIMIZATION_MNIST_with_EarlyStopping_files/\n",
            "[NbConvertApp] Making directory ./OPTIMIZATION_MNIST_with_EarlyStopping_files\n",
            "[NbConvertApp] Making directory ./OPTIMIZATION_MNIST_with_EarlyStopping_files\n",
            "[NbConvertApp] Making directory ./OPTIMIZATION_MNIST_with_EarlyStopping_files\n",
            "[NbConvertApp] Writing 47715 bytes to ./notebook.tex\n",
            "[NbConvertApp] Building PDF\n",
            "[NbConvertApp] Running xelatex 3 times: [u'xelatex', u'./notebook.tex', '-quiet']\n",
            "[NbConvertApp] Running bibtex 1 time: [u'bibtex', u'./notebook']\n",
            "[NbConvertApp] WARNING | bibtex had problems, most likely because there were no citations\n",
            "[NbConvertApp] PDF successfully created\n",
            "[NbConvertApp] Writing 59572 bytes to /content/drive/My Drive/OPTIMIZATION_MNIST_with_EarlyStopping.pdf\n"
          ],
          "name": "stdout"
        },
        {
          "output_type": "display_data",
          "data": {
            "application/javascript": [
              "\n",
              "    async function download(id, filename, size) {\n",
              "      if (!google.colab.kernel.accessAllowed) {\n",
              "        return;\n",
              "      }\n",
              "      const div = document.createElement('div');\n",
              "      const label = document.createElement('label');\n",
              "      label.textContent = `Downloading \"${filename}\": `;\n",
              "      div.appendChild(label);\n",
              "      const progress = document.createElement('progress');\n",
              "      progress.max = size;\n",
              "      div.appendChild(progress);\n",
              "      document.body.appendChild(div);\n",
              "\n",
              "      const buffers = [];\n",
              "      let downloaded = 0;\n",
              "\n",
              "      const channel = await google.colab.kernel.comms.open(id);\n",
              "      // Send a message to notify the kernel that we're ready.\n",
              "      channel.send({})\n",
              "\n",
              "      for await (const message of channel.messages) {\n",
              "        // Send a message to notify the kernel that we're ready.\n",
              "        channel.send({})\n",
              "        if (message.buffers) {\n",
              "          for (const buffer of message.buffers) {\n",
              "            buffers.push(buffer);\n",
              "            downloaded += buffer.byteLength;\n",
              "            progress.value = downloaded;\n",
              "          }\n",
              "        }\n",
              "      }\n",
              "      const blob = new Blob(buffers, {type: 'application/binary'});\n",
              "      const a = document.createElement('a');\n",
              "      a.href = window.URL.createObjectURL(blob);\n",
              "      a.download = filename;\n",
              "      div.appendChild(a);\n",
              "      a.click();\n",
              "      div.remove();\n",
              "    }\n",
              "  "
            ],
            "text/plain": [
              "<IPython.core.display.Javascript object>"
            ]
          },
          "metadata": {
            "tags": []
          }
        },
        {
          "output_type": "display_data",
          "data": {
            "application/javascript": [
              "download(\"download_d8671b2a-8612-4ad6-8a36-cc198e542436\", \"OPTIMIZATION_MNIST_with_EarlyStopping.pdf\", 59572)"
            ],
            "text/plain": [
              "<IPython.core.display.Javascript object>"
            ]
          },
          "metadata": {
            "tags": []
          }
        },
        {
          "output_type": "execute_result",
          "data": {
            "application/vnd.google.colaboratory.intrinsic+json": {
              "type": "string"
            },
            "text/plain": [
              "'File ready to be Downloaded and Saved to Drive'"
            ]
          },
          "metadata": {
            "tags": []
          },
          "execution_count": 23
        }
      ]
    },
    {
      "cell_type": "code",
      "metadata": {
        "id": "ui8CzXkX0rGE"
      },
      "source": [
        ""
      ],
      "execution_count": null,
      "outputs": []
    }
  ]
}