{
  "nbformat": 4,
  "nbformat_minor": 0,
  "metadata": {
    "colab": {
      "name": "Regularization  and Dropout.ipynb",
      "provenance": [],
      "authorship_tag": "ABX9TyN3sH9qqyjwfq+BZKz2FFe1",
      "include_colab_link": true
    },
    "kernelspec": {
      "name": "python3",
      "display_name": "Python 3"
    },
    "language_info": {
      "name": "python"
    }
  },
  "cells": [
    {
      "cell_type": "markdown",
      "metadata": {
        "id": "view-in-github",
        "colab_type": "text"
      },
      "source": [
        "<a href=\"https://colab.research.google.com/github/Rioba-Ian/Deep_Learning/blob/main/Regularization_and_Dropout.ipynb\" target=\"_parent\"><img src=\"https://colab.research.google.com/assets/colab-badge.svg\" alt=\"Open In Colab\"/></a>"
      ]
    },
    {
      "cell_type": "markdown",
      "metadata": {
        "id": "9u9E10BqEOvY"
      },
      "source": [
        "# Regularization \n",
        "\n",
        "Regularization is a technique which involves making slight modifications to the learning algorithm  such that the model generalizes better. This in turn will improve the model's perfromance on the unseen test data set as well. \n",
        "<br>\n",
        "Adding more than required layers adds to overfitting in the model. \n",
        "<br>\n",
        "Regularization isn't a quick concept that needs to be mastered, but rather slowly. \n",
        "<br>\n",
        "We add regularization in the neural network by doing the following\n",
        "> model.add(Dense(256, activation='relu', kernel_regularizer= 'l2'))"
      ]
    },
    {
      "cell_type": "markdown",
      "metadata": {
        "id": "tToEo7OLFRmz"
      },
      "source": [
        "# Dropouts \n",
        "Dropout is a regularization method approximating training a large number of neural networks with different architechtures in parallel. It is preferred when training a large neural network. "
      ]
    },
    {
      "cell_type": "code",
      "metadata": {
        "colab": {
          "base_uri": "https://localhost:8080/",
          "height": 541
        },
        "id": "gYhWnt94B-Nr",
        "outputId": "efc3f71a-b2ad-4e9e-d637-a39eff5a3901"
      },
      "source": [
        "from IPython.display import Image\n",
        "Image(url='https://miro.medium.com/max/1200/1*iWQzxhVlvadk6VAJjsgXgg.png',\n",
        "      width = 800, height=500)"
      ],
      "execution_count": 1,
      "outputs": [
        {
          "output_type": "execute_result",
          "data": {
            "text/html": [
              "<img src=\"https://miro.medium.com/max/1200/1*iWQzxhVlvadk6VAJjsgXgg.png\" width=\"800\" height=\"500\"/>"
            ],
            "text/plain": [
              "<IPython.core.display.Image object>"
            ]
          },
          "metadata": {
            "tags": []
          },
          "execution_count": 1
        }
      ]
    },
    {
      "cell_type": "markdown",
      "metadata": {
        "id": "N3UnhoeKGIeh"
      },
      "source": [
        "By dropping a unit out, we mean temporarily removing it from the network, along with all its incoming and outgoing connections."
      ]
    },
    {
      "cell_type": "markdown",
      "metadata": {
        "id": "_GwR-6_QGT01"
      },
      "source": [
        "Dropout has the effect of making the training process, noisy, forcing nodes within a layer to probabilistically take on more or less responsibility for the inputs. This conceptualization suggests that perhaps droupout breaks-up situations where network layers co-adapt to correct mistakes form prior layers, in turn making the model more robust.\n",
        "<br>\n",
        "\n",
        "It can be used with most types of layers, such as dense fully connected layers, convolution layers, and recurrent layers such as the LSTM layer. Dropout may be implemented on any or all hidden layers in the network as well as the visible or input layer. \n",
        "<br>\n",
        "\n",
        "It is not used in the output layer."
      ]
    },
    {
      "cell_type": "code",
      "metadata": {
        "colab": {
          "base_uri": "https://localhost:8080/"
        },
        "id": "6FNAhE-2Fwce",
        "outputId": "998f3d09-6d3b-4398-a2c8-d1b854f01c5e"
      },
      "source": [
        "from tensorflow.keras.datasets import mnist\n",
        "# import matplotlib \n",
        "import numpy as np \n",
        "import matplotlib \n",
        "import matplotlib.pyplot as plt\n",
        "\n",
        "%matplotlib inline \n",
        "(X_train, y_train), (X_test, y_test) = mnist.load_data()"
      ],
      "execution_count": 2,
      "outputs": [
        {
          "output_type": "stream",
          "text": [
            "Downloading data from https://storage.googleapis.com/tensorflow/tf-keras-datasets/mnist.npz\n",
            "11493376/11490434 [==============================] - 0s 0us/step\n"
          ],
          "name": "stdout"
        }
      ]
    },
    {
      "cell_type": "code",
      "metadata": {
        "colab": {
          "base_uri": "https://localhost:8080/",
          "height": 188
        },
        "id": "Kr3nJDgIHofJ",
        "outputId": "3b2f2933-127a-4eb8-acbd-cfc1996090d1"
      },
      "source": [
        "images = X_train[:3]\n",
        "labels = y_train[:3]\n",
        "\n",
        "f, ax = plt.subplots(nrows=1, ncols=3, figsize=(20,4))\n",
        "\n",
        "for index,(img, ax) in enumerate(zip(images, ax)):\n",
        "    \n",
        "    ax.imshow(img, cmap='gray')\n",
        "    ax.axis('off')\n",
        "    ax.text(0.6, -2.0, f\"Digit in the image {labels[index]}\", size=15, ha='center')\n",
        "plt.show()"
      ],
      "execution_count": 4,
      "outputs": [
        {
          "output_type": "display_data",
          "data": {
            "image/png": "[encoded data removed]",
            "text/plain": [
              "<Figure size 1440x288 with 3 Axes>"
            ]
          },
          "metadata": {
            "tags": [],
            "needs_background": "light"
          }
        }
      ]
    },
    {
      "cell_type": "code",
      "metadata": {
        "id": "7HB5AoDVIfgY"
      },
      "source": [
        "from tensorflow.keras.models import Sequential\n",
        "from tensorflow.keras.layers import Dense, Dropout \n",
        "from tensorflow.keras.optimizers import SGD \n",
        "from tensorflow.keras.callbacks import TensorBoard \n",
        "from tensorflow.keras.utils import to_categorical\n",
        "from tensorflow.keras.callbacks import EarlyStopping\n",
        "from tensorflow.keras import regularizers\n",
        "from datetime import datetime"
      ],
      "execution_count": 5,
      "outputs": []
    },
    {
      "cell_type": "code",
      "metadata": {
        "id": "lRH_TKyTJUF2"
      },
      "source": [
        "X_train = X_train.reshape(60000, 784)\n",
        "X_test = X_test.reshape(10000, 784)"
      ],
      "execution_count": 6,
      "outputs": []
    },
    {
      "cell_type": "code",
      "metadata": {
        "id": "Qap_axPiJetS"
      },
      "source": [
        "y_train = to_categorical(y_train, 10)\n",
        "y_test = to_categorical(y_test, 10)"
      ],
      "execution_count": 7,
      "outputs": []
    },
    {
      "cell_type": "code",
      "metadata": {
        "id": "dQw8sxWDJm0k"
      },
      "source": [
        "model = Sequential()\n",
        "model.add(Dense(10, activation='relu', input_shape=(784, )))\n",
        "model.add(Dropout(0.2)) #adding dropout\n",
        "model.add(Dense(256, activation='relu', kernel_regularizer='l2')) # using regulaizer\n",
        "model.add(Dropout(0.2)) #adding dropout\n",
        "model.add(Dense(256, activation='relu', kernel_regularizer='l2')) # using regulaizer\n",
        "model.add(Dropout(0.2)) #using dropout\n",
        "model.add(Dense(10, activation='softmax'))\n",
        "model.compile(loss='categorical_crossentropy', optimizer='adam', metrics=['accuracy'])"
      ],
      "execution_count": 10,
      "outputs": []
    },
    {
      "cell_type": "code",
      "metadata": {
        "id": "dugumvjuKh6n"
      },
      "source": [
        "logdir = 'logs/' + datetime.now().strftime(\"%Y%m%d-%H%M%S\")\n",
        "tensorboard_callback = TensorBoard(log_dir=logdir)\n",
        "\n",
        "es = EarlyStopping(monitor='val_loss', mode='min', verbose=1, patience=5)"
      ],
      "execution_count": 11,
      "outputs": []
    },
    {
      "cell_type": "code",
      "metadata": {
        "colab": {
          "base_uri": "https://localhost:8080/"
        },
        "id": "CCDjoJhQK97P",
        "outputId": "180c47b7-2552-4ef5-8e40-7092ee1dbd35"
      },
      "source": [
        "training_history = model.fit(\n",
        "    X_train,\n",
        "    y_train,\n",
        "    batch_size=32,\n",
        "    verbose=1,\n",
        "    epochs=10,\n",
        "    validation_data = (X_test, y_test),\n",
        "    callbacks=[tensorboard_callback, es],\n",
        ")"
      ],
      "execution_count": 13,
      "outputs": [
        {
          "output_type": "stream",
          "text": [
            "Epoch 1/10\n",
            "1875/1875 [==============================] - 6s 3ms/step - loss: 3.5652 - accuracy: 0.2257 - val_loss: 0.8727 - val_accuracy: 0.7149\n",
            "Epoch 2/10\n",
            "1875/1875 [==============================] - 6s 3ms/step - loss: 1.1198 - accuracy: 0.6038 - val_loss: 0.6897 - val_accuracy: 0.7700\n",
            "Epoch 3/10\n",
            "1875/1875 [==============================] - 5s 3ms/step - loss: 0.9798 - accuracy: 0.6513 - val_loss: 0.6211 - val_accuracy: 0.7848\n",
            "Epoch 4/10\n",
            "1875/1875 [==============================] - 5s 3ms/step - loss: 0.8995 - accuracy: 0.6930 - val_loss: 0.6238 - val_accuracy: 0.8196\n",
            "Epoch 5/10\n",
            "1875/1875 [==============================] - 5s 3ms/step - loss: 0.8678 - accuracy: 0.7089 - val_loss: 0.6113 - val_accuracy: 0.8543\n",
            "Epoch 6/10\n",
            "1875/1875 [==============================] - 6s 3ms/step - loss: 0.8423 - accuracy: 0.7391 - val_loss: 0.5719 - val_accuracy: 0.8549\n",
            "Epoch 7/10\n",
            "1875/1875 [==============================] - 5s 3ms/step - loss: 0.8289 - accuracy: 0.7485 - val_loss: 0.5759 - val_accuracy: 0.8551\n",
            "Epoch 8/10\n",
            "1875/1875 [==============================] - 5s 3ms/step - loss: 0.8288 - accuracy: 0.7467 - val_loss: 0.5591 - val_accuracy: 0.8620\n",
            "Epoch 9/10\n",
            "1875/1875 [==============================] - 5s 3ms/step - loss: 0.8257 - accuracy: 0.7558 - val_loss: 0.5809 - val_accuracy: 0.8564\n",
            "Epoch 10/10\n",
            "1875/1875 [==============================] - 6s 3ms/step - loss: 0.8092 - accuracy: 0.7558 - val_loss: 0.5582 - val_accuracy: 0.8586\n"
          ],
          "name": "stdout"
        }
      ]
    },
    {
      "cell_type": "markdown",
      "metadata": {
        "id": "-f7Eoi15L4xf"
      },
      "source": [
        "In most cases, dropouts is used in deep/wide neural networks. This is a very basic one. The training will require more epochs to train. "
      ]
    },
    {
      "cell_type": "markdown",
      "metadata": {
        "id": "k-hodymuN1QC"
      },
      "source": [
        "## Why not just use early stopping rather than regularization?\n",
        "The main downside of earlystopping is that this couples two tasks:\n",
        "1. Algorithm to optimize the cost function\n",
        "2. Prevent overfitting\n",
        "<br>\n",
        "\n",
        "because by stopping gradient descent early, we are sort of breaking whatever we are building through optimization in the cost function and simultaneously trying not to over fit. Rather than using early stopping, one alternative is the L2 regularization then we can just train the neural network as long as possible - another drawback would be that we would try out different values for the lamda regularization parameter to obtain a really good one. "
      ]
    },
    {
      "cell_type": "markdown",
      "metadata": {
        "id": "JQNPk947O2u-"
      },
      "source": [
        "**Points to conclude**\n",
        "* Large weights in a neural network are a sign of a more complex network needed to fit which may lead to overfitting the training data.\n",
        "* Probabilistically dropping out nodes in the network is a simple and effecting regularization method. \n",
        "* A large network with more training and the use of a weight constraint are suggested when using the dropout"
      ]
    }
  ]
}