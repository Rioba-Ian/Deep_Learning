{
  "nbformat": 4,
  "nbformat_minor": 0,
  "metadata": {
    "kernelspec": {
      "display_name": "Python 3",
      "language": "python",
      "name": "python3"
    },
    "language_info": {
      "codemirror_mode": {
        "name": "ipython",
        "version": 3
      },
      "file_extension": ".py",
      "mimetype": "text/x-python",
      "name": "python",
      "nbconvert_exporter": "python",
      "pygments_lexer": "ipython3",
      "version": "3.8.5"
    },
    "papermill": {
      "default_parameters": {},
      "duration": 50.126058,
      "end_time": "2021-03-13T16:28:23.248091",
      "environment_variables": {},
      "exception": null,
      "input_path": "__notebook__.ipynb",
      "output_path": "__notebook__.ipynb",
      "parameters": {},
      "start_time": "2021-03-13T16:27:33.122033",
      "version": "2.2.2"
    },
    "colab": {
      "name": "sentimental-analysis-using-logistic-regression.ipynb",
      "provenance": []
    }
  },
  "cells": [
    {
      "cell_type": "markdown",
      "metadata": {
        "id": "BPlZOeV9oztW"
      },
      "source": [
        "# IMPORTING NECESSARY MODULES"
      ]
    },
    {
      "cell_type": "code",
      "metadata": {
        "id": "s-rZFw51pJrH",
        "outputId": "bb11ad42-476c-4c93-a185-1d0aa0765cb6",
        "colab": {
          "base_uri": "https://localhost:8080/"
        }
      },
      "source": [
        "from google.colab import drive\n",
        "drive.mount('/content/drive')"
      ],
      "execution_count": 21,
      "outputs": [
        {
          "output_type": "stream",
          "name": "stdout",
          "text": [
            "Drive already mounted at /content/drive; to attempt to forcibly remount, call drive.mount(\"/content/drive\", force_remount=True).\n"
          ]
        }
      ]
    },
    {
      "cell_type": "code",
      "metadata": {
        "_cell_guid": "b1076dfc-b9ad-4769-8c92-a6c4dae69d19",
        "_uuid": "8f2839f25d086af736a60e9eeb907d3b93b6e0e5",
        "execution": {
          "iopub.execute_input": "2021-03-13T16:27:39.217519Z",
          "iopub.status.busy": "2021-03-13T16:27:39.216547Z",
          "iopub.status.idle": "2021-03-13T16:27:39.234404Z",
          "shell.execute_reply": "2021-03-13T16:27:39.235238Z"
        },
        "papermill": {
          "duration": 0.035859,
          "end_time": "2021-03-13T16:27:39.235853",
          "exception": false,
          "start_time": "2021-03-13T16:27:39.199994",
          "status": "completed"
        },
        "tags": [],
        "id": "S4zX2k0qoztc"
      },
      "source": [
        "import numpy as np # linear algebra\n",
        "import pandas as pd # data processing, CSV file I/O (e.g. pd.read_csv)\n",
        "import matplotlib.pyplot as plt  #For Visualisation\n",
        "%matplotlib inline\n",
        "import seaborn as sns  #For Visualisation\n",
        "from bs4 import BeautifulSoup  # For Text Parsing"
      ],
      "execution_count": 22,
      "outputs": []
    },
    {
      "cell_type": "markdown",
      "metadata": {
        "id": "36AWou99oztf"
      },
      "source": [
        "# IMPORTING DATASET"
      ]
    },
    {
      "cell_type": "code",
      "metadata": {
        "execution": {
          "iopub.execute_input": "2021-03-13T16:27:39.271093Z",
          "iopub.status.busy": "2021-03-13T16:27:39.270285Z",
          "iopub.status.idle": "2021-03-13T16:27:47.294167Z",
          "shell.execute_reply": "2021-03-13T16:27:47.293549Z"
        },
        "papermill": {
          "duration": 8.043911,
          "end_time": "2021-03-13T16:27:47.294319",
          "exception": false,
          "start_time": "2021-03-13T16:27:39.250408",
          "status": "completed"
        },
        "scrolled": true,
        "tags": [],
        "id": "f8B31XUmoztg",
        "outputId": "edd0c8c8-b933-4737-d46a-ff6bfb1e5206",
        "colab": {
          "base_uri": "https://localhost:8080/",
          "height": 571
        }
      },
      "source": [
        "data = pd.read_csv('/content/drive/MyDrive/Colab Notebooks/Untitled folder/Reviews.csv')\n",
        "data"
      ],
      "execution_count": 23,
      "outputs": [
        {
          "output_type": "execute_result",
          "data": {
            "text/html": [
              "<div>\n",
              "<style scoped>\n",
              "    .dataframe tbody tr th:only-of-type {\n",
              "        vertical-align: middle;\n",
              "    }\n",
              "\n",
              "    .dataframe tbody tr th {\n",
              "        vertical-align: top;\n",
              "    }\n",
              "\n",
              "    .dataframe thead th {\n",
              "        text-align: right;\n",
              "    }\n",
              "</style>\n",
              "<table border=\"1\" class=\"dataframe\">\n",
              "  <thead>\n",
              "    <tr style=\"text-align: right;\">\n",
              "      <th></th>\n",
              "      <th>Id</th>\n",
              "      <th>ProductId</th>\n",
              "      <th>UserId</th>\n",
              "      <th>ProfileName</th>\n",
              "      <th>HelpfulnessNumerator</th>\n",
              "      <th>HelpfulnessDenominator</th>\n",
              "      <th>Score</th>\n",
              "      <th>Time</th>\n",
              "      <th>Summary</th>\n",
              "      <th>Text</th>\n",
              "    </tr>\n",
              "  </thead>\n",
              "  <tbody>\n",
              "    <tr>\n",
              "      <th>0</th>\n",
              "      <td>1</td>\n",
              "      <td>B001E4KFG0</td>\n",
              "      <td>A3SGXH7AUHU8GW</td>\n",
              "      <td>delmartian</td>\n",
              "      <td>1</td>\n",
              "      <td>1</td>\n",
              "      <td>5</td>\n",
              "      <td>1303862400</td>\n",
              "      <td>Good Quality Dog Food</td>\n",
              "      <td>I have bought several of the Vitality canned d...</td>\n",
              "    </tr>\n",
              "    <tr>\n",
              "      <th>1</th>\n",
              "      <td>2</td>\n",
              "      <td>B00813GRG4</td>\n",
              "      <td>A1D87F6ZCVE5NK</td>\n",
              "      <td>dll pa</td>\n",
              "      <td>0</td>\n",
              "      <td>0</td>\n",
              "      <td>1</td>\n",
              "      <td>1346976000</td>\n",
              "      <td>Not as Advertised</td>\n",
              "      <td>Product arrived labeled as Jumbo Salted Peanut...</td>\n",
              "    </tr>\n",
              "    <tr>\n",
              "      <th>2</th>\n",
              "      <td>3</td>\n",
              "      <td>B000LQOCH0</td>\n",
              "      <td>ABXLMWJIXXAIN</td>\n",
              "      <td>Natalia Corres \"Natalia Corres\"</td>\n",
              "      <td>1</td>\n",
              "      <td>1</td>\n",
              "      <td>4</td>\n",
              "      <td>1219017600</td>\n",
              "      <td>\"Delight\" says it all</td>\n",
              "      <td>This is a confection that has been around a fe...</td>\n",
              "    </tr>\n",
              "    <tr>\n",
              "      <th>3</th>\n",
              "      <td>4</td>\n",
              "      <td>B000UA0QIQ</td>\n",
              "      <td>A395BORC6FGVXV</td>\n",
              "      <td>Karl</td>\n",
              "      <td>3</td>\n",
              "      <td>3</td>\n",
              "      <td>2</td>\n",
              "      <td>1307923200</td>\n",
              "      <td>Cough Medicine</td>\n",
              "      <td>If you are looking for the secret ingredient i...</td>\n",
              "    </tr>\n",
              "    <tr>\n",
              "      <th>4</th>\n",
              "      <td>5</td>\n",
              "      <td>B006K2ZZ7K</td>\n",
              "      <td>A1UQRSCLF8GW1T</td>\n",
              "      <td>Michael D. Bigham \"M. Wassir\"</td>\n",
              "      <td>0</td>\n",
              "      <td>0</td>\n",
              "      <td>5</td>\n",
              "      <td>1350777600</td>\n",
              "      <td>Great taffy</td>\n",
              "      <td>Great taffy at a great price.  There was a wid...</td>\n",
              "    </tr>\n",
              "    <tr>\n",
              "      <th>...</th>\n",
              "      <td>...</td>\n",
              "      <td>...</td>\n",
              "      <td>...</td>\n",
              "      <td>...</td>\n",
              "      <td>...</td>\n",
              "      <td>...</td>\n",
              "      <td>...</td>\n",
              "      <td>...</td>\n",
              "      <td>...</td>\n",
              "      <td>...</td>\n",
              "    </tr>\n",
              "    <tr>\n",
              "      <th>568449</th>\n",
              "      <td>568450</td>\n",
              "      <td>B001EO7N10</td>\n",
              "      <td>A28KG5XORO54AY</td>\n",
              "      <td>Lettie D. Carter</td>\n",
              "      <td>0</td>\n",
              "      <td>0</td>\n",
              "      <td>5</td>\n",
              "      <td>1299628800</td>\n",
              "      <td>Will not do without</td>\n",
              "      <td>Great for sesame chicken..this is a good if no...</td>\n",
              "    </tr>\n",
              "    <tr>\n",
              "      <th>568450</th>\n",
              "      <td>568451</td>\n",
              "      <td>B003S1WTCU</td>\n",
              "      <td>A3I8AFVPEE8KI5</td>\n",
              "      <td>R. Sawyer</td>\n",
              "      <td>0</td>\n",
              "      <td>0</td>\n",
              "      <td>2</td>\n",
              "      <td>1331251200</td>\n",
              "      <td>disappointed</td>\n",
              "      <td>I'm disappointed with the flavor. The chocolat...</td>\n",
              "    </tr>\n",
              "    <tr>\n",
              "      <th>568451</th>\n",
              "      <td>568452</td>\n",
              "      <td>B004I613EE</td>\n",
              "      <td>A121AA1GQV751Z</td>\n",
              "      <td>pksd \"pk_007\"</td>\n",
              "      <td>2</td>\n",
              "      <td>2</td>\n",
              "      <td>5</td>\n",
              "      <td>1329782400</td>\n",
              "      <td>Perfect for our maltipoo</td>\n",
              "      <td>These stars are small, so you can give 10-15 o...</td>\n",
              "    </tr>\n",
              "    <tr>\n",
              "      <th>568452</th>\n",
              "      <td>568453</td>\n",
              "      <td>B004I613EE</td>\n",
              "      <td>A3IBEVCTXKNOH</td>\n",
              "      <td>Kathy A. Welch \"katwel\"</td>\n",
              "      <td>1</td>\n",
              "      <td>1</td>\n",
              "      <td>5</td>\n",
              "      <td>1331596800</td>\n",
              "      <td>Favorite Training and reward treat</td>\n",
              "      <td>These are the BEST treats for training and rew...</td>\n",
              "    </tr>\n",
              "    <tr>\n",
              "      <th>568453</th>\n",
              "      <td>568454</td>\n",
              "      <td>B001LR2CU2</td>\n",
              "      <td>A3LGQPJCZVL9UC</td>\n",
              "      <td>srfell17</td>\n",
              "      <td>0</td>\n",
              "      <td>0</td>\n",
              "      <td>5</td>\n",
              "      <td>1338422400</td>\n",
              "      <td>Great Honey</td>\n",
              "      <td>I am very satisfied ,product is as advertised,...</td>\n",
              "    </tr>\n",
              "  </tbody>\n",
              "</table>\n",
              "<p>568454 rows × 10 columns</p>\n",
              "</div>"
            ],
            "text/plain": [
              "            Id  ...                                               Text\n",
              "0            1  ...  I have bought several of the Vitality canned d...\n",
              "1            2  ...  Product arrived labeled as Jumbo Salted Peanut...\n",
              "2            3  ...  This is a confection that has been around a fe...\n",
              "3            4  ...  If you are looking for the secret ingredient i...\n",
              "4            5  ...  Great taffy at a great price.  There was a wid...\n",
              "...        ...  ...                                                ...\n",
              "568449  568450  ...  Great for sesame chicken..this is a good if no...\n",
              "568450  568451  ...  I'm disappointed with the flavor. The chocolat...\n",
              "568451  568452  ...  These stars are small, so you can give 10-15 o...\n",
              "568452  568453  ...  These are the BEST treats for training and rew...\n",
              "568453  568454  ...  I am very satisfied ,product is as advertised,...\n",
              "\n",
              "[568454 rows x 10 columns]"
            ]
          },
          "metadata": {},
          "execution_count": 23
        }
      ]
    },
    {
      "cell_type": "markdown",
      "metadata": {
        "id": "lYVjMFrzozth"
      },
      "source": [
        "# DATA PREPROCESSING & VISUALISATION"
      ]
    },
    {
      "cell_type": "code",
      "metadata": {
        "execution": {
          "iopub.execute_input": "2021-03-13T16:27:47.637700Z",
          "iopub.status.busy": "2021-03-13T16:27:47.324855Z",
          "iopub.status.idle": "2021-03-13T16:27:47.652536Z",
          "shell.execute_reply": "2021-03-13T16:27:47.651955Z"
        },
        "papermill": {
          "duration": 0.34554,
          "end_time": "2021-03-13T16:27:47.652678",
          "exception": false,
          "start_time": "2021-03-13T16:27:47.307138",
          "status": "completed"
        },
        "tags": [],
        "id": "IcaZy2tnozti",
        "outputId": "69f430ff-2d0f-44e2-8843-bdcdfba301f5",
        "colab": {
          "base_uri": "https://localhost:8080/"
        }
      },
      "source": [
        "data.isnull().sum()"
      ],
      "execution_count": 24,
      "outputs": [
        {
          "output_type": "execute_result",
          "data": {
            "text/plain": [
              "Id                         0\n",
              "ProductId                  0\n",
              "UserId                     0\n",
              "ProfileName               16\n",
              "HelpfulnessNumerator       0\n",
              "HelpfulnessDenominator     0\n",
              "Score                      0\n",
              "Time                       0\n",
              "Summary                   27\n",
              "Text                       0\n",
              "dtype: int64"
            ]
          },
          "metadata": {},
          "execution_count": 24
        }
      ]
    },
    {
      "cell_type": "code",
      "metadata": {
        "execution": {
          "iopub.execute_input": "2021-03-13T16:27:48.002053Z",
          "iopub.status.busy": "2021-03-13T16:27:47.684503Z",
          "iopub.status.idle": "2021-03-13T16:27:48.435326Z",
          "shell.execute_reply": "2021-03-13T16:27:48.434615Z"
        },
        "papermill": {
          "duration": 0.769449,
          "end_time": "2021-03-13T16:27:48.435483",
          "exception": false,
          "start_time": "2021-03-13T16:27:47.666034",
          "status": "completed"
        },
        "tags": [],
        "id": "Q-ni2Hpmozti",
        "outputId": "214ed4b9-9e8f-4ca6-d84b-66e6178d3158",
        "colab": {
          "base_uri": "https://localhost:8080/"
        }
      },
      "source": [
        "data=data.dropna()\n",
        "data.isnull().sum()"
      ],
      "execution_count": 25,
      "outputs": [
        {
          "output_type": "execute_result",
          "data": {
            "text/plain": [
              "Id                        0\n",
              "ProductId                 0\n",
              "UserId                    0\n",
              "ProfileName               0\n",
              "HelpfulnessNumerator      0\n",
              "HelpfulnessDenominator    0\n",
              "Score                     0\n",
              "Time                      0\n",
              "Summary                   0\n",
              "Text                      0\n",
              "dtype: int64"
            ]
          },
          "metadata": {},
          "execution_count": 25
        }
      ]
    },
    {
      "cell_type": "code",
      "metadata": {
        "scrolled": true,
        "id": "a4liVgocoztk",
        "outputId": "14af842c-c0fb-42f5-ec97-0358ab1cf651",
        "colab": {
          "base_uri": "https://localhost:8080/"
        }
      },
      "source": [
        "data.shape"
      ],
      "execution_count": 26,
      "outputs": [
        {
          "output_type": "execute_result",
          "data": {
            "text/plain": [
              "(568411, 10)"
            ]
          },
          "metadata": {},
          "execution_count": 26
        }
      ]
    },
    {
      "cell_type": "code",
      "metadata": {
        "id": "jOBxwCz0oztl",
        "outputId": "d6390032-f668-445e-a0a2-d6547a8c0a5f",
        "colab": {
          "base_uri": "https://localhost:8080/"
        }
      },
      "source": [
        "score_unique = data['Score'].unique()\n",
        "print(score_unique)"
      ],
      "execution_count": 27,
      "outputs": [
        {
          "output_type": "stream",
          "name": "stdout",
          "text": [
            "[5 1 4 2 3]\n"
          ]
        }
      ]
    },
    {
      "cell_type": "code",
      "metadata": {
        "execution": {
          "iopub.execute_input": "2021-03-13T16:27:48.506192Z",
          "iopub.status.busy": "2021-03-13T16:27:48.501015Z",
          "iopub.status.idle": "2021-03-13T16:27:48.704122Z",
          "shell.execute_reply": "2021-03-13T16:27:48.703473Z"
        },
        "papermill": {
          "duration": 0.253989,
          "end_time": "2021-03-13T16:27:48.704263",
          "exception": false,
          "start_time": "2021-03-13T16:27:48.450274",
          "status": "completed"
        },
        "tags": [],
        "id": "-UmbzSaUoztm"
      },
      "source": [
        "#   0-> NEGATIVE REVIEW\n",
        "#   1-> NEUTRAL REVIEW\n",
        "#   2-> POSTIVE REVIEW\n",
        "a=[]\n",
        "for i in data['Score']:\n",
        "    if i <3:                              \n",
        "        a.append(0)\n",
        "    if i==3:\n",
        "        a.append(1)\n",
        "    if i>3:\n",
        "        a.append(2)"
      ],
      "execution_count": 28,
      "outputs": []
    },
    {
      "cell_type": "code",
      "metadata": {
        "id": "al4vf2_Soztn",
        "outputId": "346ccc70-74ac-4a26-e58c-699916c9e23f",
        "colab": {
          "base_uri": "https://localhost:8080/"
        }
      },
      "source": [
        "r_0, r_1, r_2 = 0, 0, 0\n",
        "for i in a:\n",
        "    if i == 0:\n",
        "        r_0 += 1\n",
        "    elif i == 1:\n",
        "        r_1 += 1\n",
        "    else:\n",
        "        r_2 += 1\n",
        "\n",
        "print('Negative Reviews:',r_0)\n",
        "print('Neutral Reviews:',r_1)\n",
        "print('Positive Reviews:',r_2)"
      ],
      "execution_count": 29,
      "outputs": [
        {
          "output_type": "stream",
          "name": "stdout",
          "text": [
            "Negative Reviews: 82007\n",
            "Neutral Reviews: 42638\n",
            "Positive Reviews: 443766\n"
          ]
        }
      ]
    },
    {
      "cell_type": "code",
      "metadata": {
        "execution": {
          "iopub.execute_input": "2021-03-13T16:27:48.738843Z",
          "iopub.status.busy": "2021-03-13T16:27:48.738209Z",
          "iopub.status.idle": "2021-03-13T16:27:52.191203Z",
          "shell.execute_reply": "2021-03-13T16:27:52.190555Z"
        },
        "papermill": {
          "duration": 3.472218,
          "end_time": "2021-03-13T16:27:52.191341",
          "exception": false,
          "start_time": "2021-03-13T16:27:48.719123",
          "status": "completed"
        },
        "tags": [],
        "id": "-wOmfycAozto",
        "outputId": "1a792f93-d3c4-44d3-d5b7-754b285495a9",
        "colab": {
          "base_uri": "https://localhost:8080/",
          "height": 347
        }
      },
      "source": [
        "sns.countplot(a)\n",
        "plt.xlabel('Reviews', color = 'red')\n",
        "plt.ylabel('Count', color = 'red')\n",
        "plt.xticks([0,1,2],['Negative','Neutral','Positive'])\n",
        "plt.title('COUNT PLOT', color = 'r')\n",
        "plt.show()"
      ],
      "execution_count": 30,
      "outputs": [
        {
          "output_type": "stream",
          "name": "stderr",
          "text": [
            "/usr/local/lib/python3.7/dist-packages/seaborn/_decorators.py:43: FutureWarning: Pass the following variable as a keyword arg: x. From version 0.12, the only valid positional argument will be `data`, and passing other arguments without an explicit keyword will result in an error or misinterpretation.\n",
            "  FutureWarning\n"
          ]
        },
        {
          "output_type": "display_data",
          "data": {
            "image/png": "[encoded data removed]",
            "text/plain": [
              "<Figure size 432x288 with 1 Axes>"
            ]
          },
          "metadata": {
            "needs_background": "light"
          }
        }
      ]
    },
    {
      "cell_type": "code",
      "metadata": {
        "execution": {
          "iopub.execute_input": "2021-03-13T16:27:52.228983Z",
          "iopub.status.busy": "2021-03-13T16:27:52.228227Z",
          "iopub.status.idle": "2021-03-13T16:27:52.525964Z",
          "shell.execute_reply": "2021-03-13T16:27:52.525241Z"
        },
        "papermill": {
          "duration": 0.318919,
          "end_time": "2021-03-13T16:27:52.526112",
          "exception": false,
          "start_time": "2021-03-13T16:27:52.207193",
          "status": "completed"
        },
        "tags": [],
        "id": "e13bQXMfozto",
        "outputId": "11982e9d-e5b5-48c1-9d04-1bc2d47a74cb",
        "colab": {
          "base_uri": "https://localhost:8080/",
          "height": 506
        }
      },
      "source": [
        "data['sentiment']=a\n",
        "#data\n",
        "final_dataset = data[['Text','sentiment']]\n",
        "final_dataset"
      ],
      "execution_count": 31,
      "outputs": [
        {
          "output_type": "stream",
          "name": "stderr",
          "text": [
            "/usr/local/lib/python3.7/dist-packages/ipykernel_launcher.py:1: SettingWithCopyWarning: \n",
            "A value is trying to be set on a copy of a slice from a DataFrame.\n",
            "Try using .loc[row_indexer,col_indexer] = value instead\n",
            "\n",
            "See the caveats in the documentation: https://pandas.pydata.org/pandas-docs/stable/user_guide/indexing.html#returning-a-view-versus-a-copy\n",
            "  \"\"\"Entry point for launching an IPython kernel.\n"
          ]
        },
        {
          "output_type": "execute_result",
          "data": {
            "text/html": [
              "<div>\n",
              "<style scoped>\n",
              "    .dataframe tbody tr th:only-of-type {\n",
              "        vertical-align: middle;\n",
              "    }\n",
              "\n",
              "    .dataframe tbody tr th {\n",
              "        vertical-align: top;\n",
              "    }\n",
              "\n",
              "    .dataframe thead th {\n",
              "        text-align: right;\n",
              "    }\n",
              "</style>\n",
              "<table border=\"1\" class=\"dataframe\">\n",
              "  <thead>\n",
              "    <tr style=\"text-align: right;\">\n",
              "      <th></th>\n",
              "      <th>Text</th>\n",
              "      <th>sentiment</th>\n",
              "    </tr>\n",
              "  </thead>\n",
              "  <tbody>\n",
              "    <tr>\n",
              "      <th>0</th>\n",
              "      <td>I have bought several of the Vitality canned d...</td>\n",
              "      <td>2</td>\n",
              "    </tr>\n",
              "    <tr>\n",
              "      <th>1</th>\n",
              "      <td>Product arrived labeled as Jumbo Salted Peanut...</td>\n",
              "      <td>0</td>\n",
              "    </tr>\n",
              "    <tr>\n",
              "      <th>2</th>\n",
              "      <td>This is a confection that has been around a fe...</td>\n",
              "      <td>2</td>\n",
              "    </tr>\n",
              "    <tr>\n",
              "      <th>3</th>\n",
              "      <td>If you are looking for the secret ingredient i...</td>\n",
              "      <td>0</td>\n",
              "    </tr>\n",
              "    <tr>\n",
              "      <th>4</th>\n",
              "      <td>Great taffy at a great price.  There was a wid...</td>\n",
              "      <td>2</td>\n",
              "    </tr>\n",
              "    <tr>\n",
              "      <th>...</th>\n",
              "      <td>...</td>\n",
              "      <td>...</td>\n",
              "    </tr>\n",
              "    <tr>\n",
              "      <th>568449</th>\n",
              "      <td>Great for sesame chicken..this is a good if no...</td>\n",
              "      <td>2</td>\n",
              "    </tr>\n",
              "    <tr>\n",
              "      <th>568450</th>\n",
              "      <td>I'm disappointed with the flavor. The chocolat...</td>\n",
              "      <td>0</td>\n",
              "    </tr>\n",
              "    <tr>\n",
              "      <th>568451</th>\n",
              "      <td>These stars are small, so you can give 10-15 o...</td>\n",
              "      <td>2</td>\n",
              "    </tr>\n",
              "    <tr>\n",
              "      <th>568452</th>\n",
              "      <td>These are the BEST treats for training and rew...</td>\n",
              "      <td>2</td>\n",
              "    </tr>\n",
              "    <tr>\n",
              "      <th>568453</th>\n",
              "      <td>I am very satisfied ,product is as advertised,...</td>\n",
              "      <td>2</td>\n",
              "    </tr>\n",
              "  </tbody>\n",
              "</table>\n",
              "<p>568411 rows × 2 columns</p>\n",
              "</div>"
            ],
            "text/plain": [
              "                                                     Text  sentiment\n",
              "0       I have bought several of the Vitality canned d...          2\n",
              "1       Product arrived labeled as Jumbo Salted Peanut...          0\n",
              "2       This is a confection that has been around a fe...          2\n",
              "3       If you are looking for the secret ingredient i...          0\n",
              "4       Great taffy at a great price.  There was a wid...          2\n",
              "...                                                   ...        ...\n",
              "568449  Great for sesame chicken..this is a good if no...          2\n",
              "568450  I'm disappointed with the flavor. The chocolat...          0\n",
              "568451  These stars are small, so you can give 10-15 o...          2\n",
              "568452  These are the BEST treats for training and rew...          2\n",
              "568453  I am very satisfied ,product is as advertised,...          2\n",
              "\n",
              "[568411 rows x 2 columns]"
            ]
          },
          "metadata": {},
          "execution_count": 31
        }
      ]
    },
    {
      "cell_type": "code",
      "metadata": {
        "execution": {
          "iopub.execute_input": "2021-03-13T16:27:52.564895Z",
          "iopub.status.busy": "2021-03-13T16:27:52.564247Z",
          "iopub.status.idle": "2021-03-13T16:27:52.602794Z",
          "shell.execute_reply": "2021-03-13T16:27:52.601774Z"
        },
        "papermill": {
          "duration": 0.06016,
          "end_time": "2021-03-13T16:27:52.602941",
          "exception": false,
          "start_time": "2021-03-13T16:27:52.542781",
          "status": "completed"
        },
        "tags": [],
        "id": "qEjYJ4kqoztp",
        "outputId": "f03eefee-7731-4379-dc47-66f454b0db18",
        "colab": {
          "base_uri": "https://localhost:8080/"
        }
      },
      "source": [
        "data_p=final_dataset[data['sentiment']==2]\n",
        "data_n=final_dataset[data['sentiment']==0]\n",
        "len(data_p), len(data_n)"
      ],
      "execution_count": 32,
      "outputs": [
        {
          "output_type": "execute_result",
          "data": {
            "text/plain": [
              "(443766, 82007)"
            ]
          },
          "metadata": {},
          "execution_count": 32
        }
      ]
    },
    {
      "cell_type": "code",
      "metadata": {
        "execution": {
          "iopub.execute_input": "2021-03-13T16:27:52.645015Z",
          "iopub.status.busy": "2021-03-13T16:27:52.644154Z",
          "iopub.status.idle": "2021-03-13T16:27:52.653374Z",
          "shell.execute_reply": "2021-03-13T16:27:52.652758Z"
        },
        "papermill": {
          "duration": 0.034092,
          "end_time": "2021-03-13T16:27:52.653525",
          "exception": false,
          "start_time": "2021-03-13T16:27:52.619433",
          "status": "completed"
        },
        "tags": [],
        "id": "iuIkjPwYoztp",
        "outputId": "2c04fab0-98a7-492f-a041-bc0c2f5e35fd",
        "colab": {
          "base_uri": "https://localhost:8080/"
        }
      },
      "source": [
        "datap = data_p.iloc[np.random.randint(1,443766,5000), :]\n",
        "datan = data_n.iloc[np.random.randint(1, 82007,5000), :]\n",
        "len(datan), len(datap)"
      ],
      "execution_count": 33,
      "outputs": [
        {
          "output_type": "execute_result",
          "data": {
            "text/plain": [
              "(5000, 5000)"
            ]
          },
          "metadata": {},
          "execution_count": 33
        }
      ]
    },
    {
      "cell_type": "code",
      "metadata": {
        "execution": {
          "iopub.execute_input": "2021-03-13T16:27:52.718098Z",
          "iopub.status.busy": "2021-03-13T16:27:52.696002Z",
          "iopub.status.idle": "2021-03-13T16:27:52.722428Z",
          "shell.execute_reply": "2021-03-13T16:27:52.723006Z"
        },
        "papermill": {
          "duration": 0.052498,
          "end_time": "2021-03-13T16:27:52.723175",
          "exception": false,
          "start_time": "2021-03-13T16:27:52.670677",
          "status": "completed"
        },
        "tags": [],
        "id": "Vr5Qm5FFoztq",
        "outputId": "bb34f116-f9f8-42a8-f6fc-c8ffbbf0401b",
        "colab": {
          "base_uri": "https://localhost:8080/"
        }
      },
      "source": [
        "data = pd.concat([datap,datan])\n",
        "len(data)"
      ],
      "execution_count": 34,
      "outputs": [
        {
          "output_type": "execute_result",
          "data": {
            "text/plain": [
              "10000"
            ]
          },
          "metadata": {},
          "execution_count": 34
        }
      ]
    },
    {
      "cell_type": "code",
      "metadata": {
        "execution": {
          "iopub.execute_input": "2021-03-13T16:27:52.761247Z",
          "iopub.status.busy": "2021-03-13T16:27:52.760643Z",
          "iopub.status.idle": "2021-03-13T16:27:52.773854Z",
          "shell.execute_reply": "2021-03-13T16:27:52.774377Z"
        },
        "papermill": {
          "duration": 0.034064,
          "end_time": "2021-03-13T16:27:52.774563",
          "exception": false,
          "start_time": "2021-03-13T16:27:52.740499",
          "status": "completed"
        },
        "tags": [],
        "id": "mvkWTx0ooztq"
      },
      "source": [
        "c=[]\n",
        "for i in data['sentiment']:\n",
        "    if i==0:\n",
        "        c.append(0)\n",
        "    if i==2:\n",
        "        c.append(1)\n",
        "data['sentiment']=c"
      ],
      "execution_count": 35,
      "outputs": []
    },
    {
      "cell_type": "code",
      "metadata": {
        "execution": {
          "iopub.execute_input": "2021-03-13T16:27:52.813343Z",
          "iopub.status.busy": "2021-03-13T16:27:52.812696Z",
          "iopub.status.idle": "2021-03-13T16:27:52.931829Z",
          "shell.execute_reply": "2021-03-13T16:27:52.932370Z"
        },
        "papermill": {
          "duration": 0.140594,
          "end_time": "2021-03-13T16:27:52.932569",
          "exception": false,
          "start_time": "2021-03-13T16:27:52.791975",
          "status": "completed"
        },
        "scrolled": true,
        "tags": [],
        "id": "Pmx8veoKoztq",
        "outputId": "29ca8840-765a-4003-af85-30250a5cb7ad",
        "colab": {
          "base_uri": "https://localhost:8080/",
          "height": 331
        }
      },
      "source": [
        "sns.countplot(data['sentiment'])\n",
        "plt.show()"
      ],
      "execution_count": 36,
      "outputs": [
        {
          "output_type": "stream",
          "name": "stderr",
          "text": [
            "/usr/local/lib/python3.7/dist-packages/seaborn/_decorators.py:43: FutureWarning: Pass the following variable as a keyword arg: x. From version 0.12, the only valid positional argument will be `data`, and passing other arguments without an explicit keyword will result in an error or misinterpretation.\n",
            "  FutureWarning\n"
          ]
        },
        {
          "output_type": "display_data",
          "data": {
            "image/png": "[encoded data removed]",
            "text/plain": [
              "<Figure size 432x288 with 1 Axes>"
            ]
          },
          "metadata": {
            "needs_background": "light"
          }
        }
      ]
    },
    {
      "cell_type": "code",
      "metadata": {
        "execution": {
          "iopub.execute_input": "2021-03-13T16:27:52.976139Z",
          "iopub.status.busy": "2021-03-13T16:27:52.975221Z",
          "iopub.status.idle": "2021-03-13T16:28:06.765174Z",
          "shell.execute_reply": "2021-03-13T16:28:06.764583Z"
        },
        "papermill": {
          "duration": 13.812836,
          "end_time": "2021-03-13T16:28:06.765326",
          "exception": false,
          "start_time": "2021-03-13T16:27:52.952490",
          "status": "completed"
        },
        "tags": [],
        "id": "FyTJS1N8oztr",
        "outputId": "04c11382-f151-448f-d0a3-c2eb86815656",
        "colab": {
          "base_uri": "https://localhost:8080/",
          "height": 200
        }
      },
      "source": [
        "def strip_html(text):\n",
        "    soup = BeautifulSoup(text, \"html.parser\")\n",
        "    return soup.get_text()\n",
        "data['review'] = data['Text'].apply(strip_html)\n",
        "\n",
        "data=data.drop('Text',axis=1)\n",
        "\n",
        "data.head()"
      ],
      "execution_count": 37,
      "outputs": [
        {
          "output_type": "execute_result",
          "data": {
            "text/html": [
              "<div>\n",
              "<style scoped>\n",
              "    .dataframe tbody tr th:only-of-type {\n",
              "        vertical-align: middle;\n",
              "    }\n",
              "\n",
              "    .dataframe tbody tr th {\n",
              "        vertical-align: top;\n",
              "    }\n",
              "\n",
              "    .dataframe thead th {\n",
              "        text-align: right;\n",
              "    }\n",
              "</style>\n",
              "<table border=\"1\" class=\"dataframe\">\n",
              "  <thead>\n",
              "    <tr style=\"text-align: right;\">\n",
              "      <th></th>\n",
              "      <th>sentiment</th>\n",
              "      <th>review</th>\n",
              "    </tr>\n",
              "  </thead>\n",
              "  <tbody>\n",
              "    <tr>\n",
              "      <th>13984</th>\n",
              "      <td>1</td>\n",
              "      <td>Each filter pack is perfect for brewing 4 cups...</td>\n",
              "    </tr>\n",
              "    <tr>\n",
              "      <th>299015</th>\n",
              "      <td>1</td>\n",
              "      <td>Received excellent product on time and as desc...</td>\n",
              "    </tr>\n",
              "    <tr>\n",
              "      <th>116484</th>\n",
              "      <td>1</td>\n",
              "      <td>This popcorn is perfectly seasoned and uses oi...</td>\n",
              "    </tr>\n",
              "    <tr>\n",
              "      <th>567790</th>\n",
              "      <td>1</td>\n",
              "      <td>Everything about the order went great, the Hot...</td>\n",
              "    </tr>\n",
              "    <tr>\n",
              "      <th>491430</th>\n",
              "      <td>1</td>\n",
              "      <td>If you want to avoid visiting the porcelain th...</td>\n",
              "    </tr>\n",
              "  </tbody>\n",
              "</table>\n",
              "</div>"
            ],
            "text/plain": [
              "        sentiment                                             review\n",
              "13984           1  Each filter pack is perfect for brewing 4 cups...\n",
              "299015          1  Received excellent product on time and as desc...\n",
              "116484          1  This popcorn is perfectly seasoned and uses oi...\n",
              "567790          1  Everything about the order went great, the Hot...\n",
              "491430          1  If you want to avoid visiting the porcelain th..."
            ]
          },
          "metadata": {},
          "execution_count": 37
        }
      ]
    },
    {
      "cell_type": "markdown",
      "metadata": {
        "id": "t-9OU1J1oztr"
      },
      "source": [
        "# MODEL BUILDING"
      ]
    },
    {
      "cell_type": "code",
      "metadata": {
        "execution": {
          "iopub.execute_input": "2021-03-13T16:28:06.822582Z",
          "iopub.status.busy": "2021-03-13T16:28:06.821370Z",
          "iopub.status.idle": "2021-03-13T16:28:08.280602Z",
          "shell.execute_reply": "2021-03-13T16:28:08.279914Z"
        },
        "papermill": {
          "duration": 1.490321,
          "end_time": "2021-03-13T16:28:08.280749",
          "exception": false,
          "start_time": "2021-03-13T16:28:06.790428",
          "status": "completed"
        },
        "tags": [],
        "id": "0ntiICW9ozts",
        "outputId": "28d0e49a-3c8c-4347-fbf2-9131d8d44b9b",
        "colab": {
          "base_uri": "https://localhost:8080/",
          "height": 141
        }
      },
      "source": [
        "import nltk  #Natural Language Processing Toolkit\n",
        "nltk.download('stopwords')\n",
        "from nltk.corpus import stopwords\n",
        "def punc_clean(text):\n",
        "    import string as st\n",
        "    a=[w for w in text if w not in st.punctuation]\n",
        "    return ''.join(a)\n",
        "data['review'] = data['review'].apply(punc_clean)\n",
        "data.head(2)"
      ],
      "execution_count": 44,
      "outputs": [
        {
          "output_type": "stream",
          "name": "stdout",
          "text": [
            "[nltk_data] Downloading package stopwords to /root/nltk_data...\n",
            "[nltk_data]   Package stopwords is already up-to-date!\n"
          ]
        },
        {
          "output_type": "execute_result",
          "data": {
            "text/html": [
              "<div>\n",
              "<style scoped>\n",
              "    .dataframe tbody tr th:only-of-type {\n",
              "        vertical-align: middle;\n",
              "    }\n",
              "\n",
              "    .dataframe tbody tr th {\n",
              "        vertical-align: top;\n",
              "    }\n",
              "\n",
              "    .dataframe thead th {\n",
              "        text-align: right;\n",
              "    }\n",
              "</style>\n",
              "<table border=\"1\" class=\"dataframe\">\n",
              "  <thead>\n",
              "    <tr style=\"text-align: right;\">\n",
              "      <th></th>\n",
              "      <th>sentiment</th>\n",
              "      <th>review</th>\n",
              "    </tr>\n",
              "  </thead>\n",
              "  <tbody>\n",
              "    <tr>\n",
              "      <th>13984</th>\n",
              "      <td>1</td>\n",
              "      <td>Each filter pack is perfect for brewing 4 cups...</td>\n",
              "    </tr>\n",
              "    <tr>\n",
              "      <th>299015</th>\n",
              "      <td>1</td>\n",
              "      <td>Received excellent product on time and as desc...</td>\n",
              "    </tr>\n",
              "  </tbody>\n",
              "</table>\n",
              "</div>"
            ],
            "text/plain": [
              "        sentiment                                             review\n",
              "13984           1  Each filter pack is perfect for brewing 4 cups...\n",
              "299015          1  Received excellent product on time and as desc..."
            ]
          },
          "metadata": {},
          "execution_count": 44
        }
      ]
    },
    {
      "cell_type": "code",
      "metadata": {
        "execution": {
          "iopub.execute_input": "2021-03-13T16:28:08.340787Z",
          "iopub.status.busy": "2021-03-13T16:28:08.340120Z",
          "iopub.status.idle": "2021-03-13T16:28:18.825059Z",
          "shell.execute_reply": "2021-03-13T16:28:18.824303Z"
        },
        "papermill": {
          "duration": 10.518179,
          "end_time": "2021-03-13T16:28:18.825205",
          "exception": false,
          "start_time": "2021-03-13T16:28:08.307026",
          "status": "completed"
        },
        "tags": [],
        "id": "bxunt8Bwozts",
        "outputId": "c89dadab-da17-4cc1-939c-157e837c6bdb",
        "colab": {
          "base_uri": "https://localhost:8080/"
        }
      },
      "source": [
        "nltk.download('punkt')\n",
        "\n",
        "def remove_stopword(text):\n",
        "    stopword=set(stopwords.words('english'))\n",
        "    stopword.remove('not')\n",
        "    a=[w for w in nltk.word_tokenize(text) if w not in stopword]\n",
        "    return ' '.join(a)\n",
        "data['review'] = data['review'].apply(remove_stopword)"
      ],
      "execution_count": 46,
      "outputs": [
        {
          "output_type": "stream",
          "name": "stdout",
          "text": [
            "[nltk_data] Downloading package punkt to /root/nltk_data...\n",
            "[nltk_data]   Unzipping tokenizers/punkt.zip.\n"
          ]
        }
      ]
    },
    {
      "cell_type": "code",
      "metadata": {
        "execution": {
          "iopub.execute_input": "2021-03-13T16:28:18.921507Z",
          "iopub.status.busy": "2021-03-13T16:28:18.916495Z",
          "iopub.status.idle": "2021-03-13T16:28:21.553576Z",
          "shell.execute_reply": "2021-03-13T16:28:21.553032Z"
        },
        "papermill": {
          "duration": 2.703145,
          "end_time": "2021-03-13T16:28:21.553726",
          "exception": false,
          "start_time": "2021-03-13T16:28:18.850581",
          "status": "completed"
        },
        "tags": [],
        "id": "jYmSSFE9ozts"
      },
      "source": [
        "from sklearn.feature_extraction.text import TfidfVectorizer\n",
        "\n",
        "vectr = TfidfVectorizer(ngram_range=(1,2),min_df=1)\n",
        "vectr.fit(data['review'])\n",
        "\n",
        "vect_X = vectr.transform(data['review'])"
      ],
      "execution_count": 47,
      "outputs": []
    },
    {
      "cell_type": "code",
      "metadata": {
        "execution": {
          "iopub.execute_input": "2021-03-13T16:28:21.612076Z",
          "iopub.status.busy": "2021-03-13T16:28:21.611368Z",
          "iopub.status.idle": "2021-03-13T16:28:22.028403Z",
          "shell.execute_reply": "2021-03-13T16:28:22.029297Z"
        },
        "papermill": {
          "duration": 0.44834,
          "end_time": "2021-03-13T16:28:22.029590",
          "exception": false,
          "start_time": "2021-03-13T16:28:21.581250",
          "status": "completed"
        },
        "scrolled": true,
        "tags": [],
        "id": "guUoSeaSoztt",
        "outputId": "21775357-b1a6-41c9-fa27-08ca96e55ab0",
        "colab": {
          "base_uri": "https://localhost:8080/"
        }
      },
      "source": [
        "from sklearn.linear_model import LogisticRegression\n",
        "\n",
        "model = LogisticRegression()\n",
        "\n",
        "clf=model.fit(vect_X,data['sentiment'])\n",
        "clf.score(vect_X,data['sentiment'])*100"
      ],
      "execution_count": 48,
      "outputs": [
        {
          "output_type": "execute_result",
          "data": {
            "text/plain": [
              "96.72"
            ]
          },
          "metadata": {},
          "execution_count": 48
        }
      ]
    },
    {
      "cell_type": "markdown",
      "metadata": {
        "id": "bcYvRn8Eoztu"
      },
      "source": [
        "# PREDICTION"
      ]
    },
    {
      "cell_type": "code",
      "metadata": {
        "execution": {
          "iopub.execute_input": "2021-03-13T16:28:22.140180Z",
          "iopub.status.busy": "2021-03-13T16:28:22.139557Z",
          "iopub.status.idle": "2021-03-13T16:28:22.142422Z",
          "shell.execute_reply": "2021-03-13T16:28:22.142902Z"
        },
        "papermill": {
          "duration": 0.062393,
          "end_time": "2021-03-13T16:28:22.143073",
          "exception": false,
          "start_time": "2021-03-13T16:28:22.080680",
          "status": "completed"
        },
        "tags": [],
        "colab": {
          "base_uri": "https://localhost:8080/"
        },
        "id": "KpHFiRLboztu",
        "outputId": "3e73d6fe-8ea9-46f3-b654-d300a509af5c"
      },
      "source": [
        "clf.predict(vectr.transform(['''I love ice cream''']))"
      ],
      "execution_count": 49,
      "outputs": [
        {
          "output_type": "execute_result",
          "data": {
            "text/plain": [
              "array([1])"
            ]
          },
          "metadata": {},
          "execution_count": 49
        }
      ]
    },
    {
      "cell_type": "code",
      "metadata": {
        "id": "wIzqLr7D-i_V"
      },
      "source": [
        ""
      ],
      "execution_count": null,
      "outputs": []
    },
    {
      "cell_type": "code",
      "metadata": {
        "execution": {
          "iopub.execute_input": "2021-03-13T16:28:22.140180Z",
          "iopub.status.busy": "2021-03-13T16:28:22.139557Z",
          "iopub.status.idle": "2021-03-13T16:28:22.142422Z",
          "shell.execute_reply": "2021-03-13T16:28:22.142902Z"
        },
        "papermill": {
          "duration": 0.062393,
          "end_time": "2021-03-13T16:28:22.143073",
          "exception": false,
          "start_time": "2021-03-13T16:28:22.080680",
          "status": "completed"
        },
        "tags": [],
        "colab": {
          "base_uri": "https://localhost:8080/"
        },
        "id": "rmAxgMv9-jTs",
        "outputId": "9e529001-4763-4cf4-92b5-334f413bd484"
      },
      "source": [
        "clf.predict(vectr.transform(['''this is my 3rd comment, I don’t understand why my review is deleted twice. Because of negative comment or dislike? criticizing is forbidden? i will post it again insistently even if my comment is deleted at every turn. following is my honest opinion:After trying Ideal extreme in a store, To me this is not refined or smooth. I get edgy and synthetic feeling. I am astonished this fragrance is the winner of 2020. Nothing unique or special.I think i'm the only one who gets ambroxan type of smell..''']))"
      ],
      "execution_count": 56,
      "outputs": [
        {
          "output_type": "execute_result",
          "data": {
            "text/plain": [
              "array([1])"
            ]
          },
          "metadata": {},
          "execution_count": 56
        }
      ]
    },
    {
      "cell_type": "code",
      "metadata": {
        "execution": {
          "iopub.execute_input": "2021-03-13T16:28:22.140180Z",
          "iopub.status.busy": "2021-03-13T16:28:22.139557Z",
          "iopub.status.idle": "2021-03-13T16:28:22.142422Z",
          "shell.execute_reply": "2021-03-13T16:28:22.142902Z"
        },
        "papermill": {
          "duration": 0.062393,
          "end_time": "2021-03-13T16:28:22.143073",
          "exception": false,
          "start_time": "2021-03-13T16:28:22.080680",
          "status": "completed"
        },
        "tags": [],
        "colab": {
          "base_uri": "https://localhost:8080/"
        },
        "id": "ZBbr2Zqe-lF6",
        "outputId": "8e0c2939-065e-45fc-fde7-897b015147f9"
      },
      "source": [
        "clf.predict(vectr.transform(['''The top is beautifully fruity and sparkling, it's a different execution from the previous flankers. Amazing spicy plum with the signature almond heart of L'Homme Ideal.  There's a fiery cinnamon that's beautifully persistent on the skin. I have an extra bottle, in case anyone wants to exchange :)''']))"
      ],
      "execution_count": 59,
      "outputs": [
        {
          "output_type": "execute_result",
          "data": {
            "text/plain": [
              "array([0])"
            ]
          },
          "metadata": {},
          "execution_count": 59
        }
      ]
    },
    {
      "cell_type": "code",
      "metadata": {
        "execution": {
          "iopub.execute_input": "2021-03-13T16:28:22.140180Z",
          "iopub.status.busy": "2021-03-13T16:28:22.139557Z",
          "iopub.status.idle": "2021-03-13T16:28:22.142422Z",
          "shell.execute_reply": "2021-03-13T16:28:22.142902Z"
        },
        "papermill": {
          "duration": 0.062393,
          "end_time": "2021-03-13T16:28:22.143073",
          "exception": false,
          "start_time": "2021-03-13T16:28:22.080680",
          "status": "completed"
        },
        "tags": [],
        "colab": {
          "base_uri": "https://localhost:8080/"
        },
        "id": "d1FatCQ6-jr1",
        "outputId": "845f1297-f4d9-40c6-9df0-df339047b9f5"
      },
      "source": [
        "clf.predict(vectr.transform(['''Really like the scent but I have to brutally overspray to get any type of moderate performance.''']))"
      ],
      "execution_count": 58,
      "outputs": [
        {
          "output_type": "execute_result",
          "data": {
            "text/plain": [
              "array([1])"
            ]
          },
          "metadata": {},
          "execution_count": 58
        }
      ]
    },
    {
      "cell_type": "code",
      "metadata": {
        "execution": {
          "iopub.execute_input": "2021-03-13T16:28:22.201709Z",
          "iopub.status.busy": "2021-03-13T16:28:22.201077Z",
          "iopub.status.idle": "2021-03-13T16:28:22.207320Z",
          "shell.execute_reply": "2021-03-13T16:28:22.208108Z"
        },
        "papermill": {
          "duration": 0.036995,
          "end_time": "2021-03-13T16:28:22.208319",
          "exception": false,
          "start_time": "2021-03-13T16:28:22.171324",
          "status": "completed"
        },
        "tags": [],
        "id": "-dn5BBwBoztu",
        "outputId": "2bd0f775-d6a0-4a1c-c893-b792ff53c4c3",
        "colab": {
          "base_uri": "https://localhost:8080/"
        }
      },
      "source": [
        "clf.predict(vectr.transform(['''It's Luxury in a bottle, loved it so much ,so beautiful, elegant, chic''']))"
      ],
      "execution_count": 54,
      "outputs": [
        {
          "output_type": "execute_result",
          "data": {
            "text/plain": [
              "array([1])"
            ]
          },
          "metadata": {},
          "execution_count": 54
        }
      ]
    },
    {
      "cell_type": "code",
      "metadata": {
        "id": "RrP3VlbQoztv",
        "outputId": "07587bac-d24c-4580-b31d-d95495edad49",
        "colab": {
          "base_uri": "https://localhost:8080/"
        }
      },
      "source": [
        "clf.predict(vectr.transform(['''My new favorite of the mon guerlain line. Sensuelle was my previous  favorite, but it didn't last as long as I would have liked. This is  amazing and lasts much longer. It's also sweeter''']))"
      ],
      "execution_count": 51,
      "outputs": [
        {
          "output_type": "execute_result",
          "data": {
            "text/plain": [
              "array([1])"
            ]
          },
          "metadata": {},
          "execution_count": 51
        }
      ]
    },
    {
      "cell_type": "code",
      "metadata": {
        "id": "v_ohsw996okl",
        "outputId": "5f9ea908-c242-4f30-900e-a2ec6ab994a6",
        "colab": {
          "base_uri": "https://localhost:8080/"
        }
      },
      "source": [
        "clf.predict(vectr.transform(['''After wearing this for several weeks I regret my purchase. Way Way  overhyped and priced. Lasts maybe 3 hours on skin. Delicate fruity  tobacco. So in retrospect I'd stay with SpiceBomb Extreme and Jacques  Fath Pour L'Homme. The Guerlain is just too delicate and short lived.''']))"
      ],
      "execution_count": 60,
      "outputs": [
        {
          "output_type": "execute_result",
          "data": {
            "text/plain": [
              "array([0])"
            ]
          },
          "metadata": {},
          "execution_count": 60
        }
      ]
    },
    {
      "cell_type": "code",
      "metadata": {
        "id": "WcaW5oyh7P5H",
        "outputId": "f0a059aa-419e-4c02-ea76-dd2f9ee9f7d2",
        "colab": {
          "base_uri": "https://localhost:8080/"
        }
      },
      "source": [
        "clf.predict(vectr.transform(['''Simply a masterpiece of scent. It feels like I’m floating on a soft  cloud of sweet soft lavender and vanilla. It is smooth and sweet and  feminine from start to finish. Very long lasting scent too. I get at  least 8 hours of longevity. It’s a very comforting scent.''']))"
      ],
      "execution_count": 55,
      "outputs": [
        {
          "output_type": "execute_result",
          "data": {
            "text/plain": [
              "array([1])"
            ]
          },
          "metadata": {},
          "execution_count": 55
        }
      ]
    },
    {
      "cell_type": "code",
      "metadata": {
        "id": "ngJF4qe37i57"
      },
      "source": [
        ""
      ],
      "execution_count": null,
      "outputs": []
    }
  ]
}