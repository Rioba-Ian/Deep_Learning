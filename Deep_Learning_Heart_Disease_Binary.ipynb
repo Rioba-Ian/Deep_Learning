{
  "nbformat": 4,
  "nbformat_minor": 0,
  "metadata": {
    "colab": {
      "name": "Deep_Learning_Heart_Disease_Binary.ipynb",
      "provenance": [],
      "authorship_tag": "ABX9TyO68KdTyL/eCTL1grClbE5v",
      "include_colab_link": true
    },
    "kernelspec": {
      "name": "python3",
      "display_name": "Python 3"
    },
    "language_info": {
      "name": "python"
    }
  },
  "cells": [
    {
      "cell_type": "markdown",
      "metadata": {
        "id": "view-in-github",
        "colab_type": "text"
      },
      "source": [
        "<a href=\"https://colab.research.google.com/github/Rioba-Ian/Deep_Learning/blob/main/Deep_Learning_Heart_Disease_Binary.ipynb\" target=\"_parent\"><img src=\"https://colab.research.google.com/assets/colab-badge.svg\" alt=\"Open In Colab\"/></a>"
      ]
    },
    {
      "cell_type": "markdown",
      "metadata": {
        "id": "ZBvZ3ebbe_5k"
      },
      "source": [
        "\n",
        "\n",
        "1.   Introduction\n",
        "2.   Data desscription\n",
        "3.   Loading the basic libraries\n",
        "4.   Loading data\n",
        "5.   Separating input and target varibales.\n",
        "5. Splitting the input and target varibales\n",
        "7.  Model building<br>\n",
        "\n",
        "*  Model creation/ Definition \n",
        "\n",
        "> Model architechture \n",
        "\n",
        "* Model compilation \n",
        "\n",
        "> History \n",
        "\n",
        "* Model training \n",
        "\n",
        "* model evaluation \n",
        "\n",
        "> Model accuracy \n",
        "\n",
        "> Model loss\n",
        "\n",
        "8. Conclusion\n"
      ]
    },
    {
      "cell_type": "markdown",
      "metadata": {
        "id": "8EUDEutGf7v4"
      },
      "source": [
        "# Introduction \n",
        "\n",
        "<br>Classification is  apreocess of dividing the dat points into two or more classes. When there are two classes then, it is known as a binary classification problem. \n",
        "<br> We are going to Model the probability that a perosn has a heart disease or not. \n",
        "<br>\n",
        "1. heart disease present = 1\n",
        "2. Heart disease not present = 0"
      ]
    },
    {
      "cell_type": "markdown",
      "metadata": {
        "id": "_13JAGDjgyXF"
      },
      "source": [
        "# Data description \n",
        "\n",
        "* *age* \n",
        "* sex, 1 = male, 0 = female \n",
        "* cp; Chest pain \n",
        "* trestbps; resting blood pressure in mm Hg\n",
        "* chol: serum cholestrol in mg/dl\n",
        "* fbs: fasting blood sugar > 120 mg/dl 1 = true, 0 = false\n",
        "\n",
        "* restecg: resting electrocardiographic results\n",
        "* thalach: maximum heart rate achieved \n",
        "* exang: exercise induced angina 1= yes, 0=no\n",
        "* oldpeak: ST depression induced by exercise relative to rest \n",
        "* slope: slope of peak exercise ST segment \n",
        "* ca ; number of major vessels (0-3) colored by fuoroscopy\n",
        "* thal: 3 = normal, 6 = fixed defect 7 = reversible defect \n",
        "* target : 1= heart disease present 0 = Heart disease not presnet\n"
      ]
    },
    {
      "cell_type": "markdown",
      "metadata": {
        "id": "bzRvzPwIibxD"
      },
      "source": [
        "# Libraries"
      ]
    },
    {
      "cell_type": "code",
      "metadata": {
        "id": "_ity-mylep6r"
      },
      "source": [
        "import numpy as np \n",
        "import pandas as pd\n",
        "import matplotlib.pyplot as plt\n"
      ],
      "execution_count": 1,
      "outputs": []
    },
    {
      "cell_type": "markdown",
      "metadata": {
        "id": "M1row64-imX7"
      },
      "source": [
        "# Loading the data"
      ]
    },
    {
      "cell_type": "code",
      "metadata": {
        "id": "BqMBmQv6ik6r"
      },
      "source": [
        "df = pd.read_csv(\"https://raw.githubusercontent.com/dphi-official/Datasets/master/heart_disease.csv\")"
      ],
      "execution_count": 2,
      "outputs": []
    },
    {
      "cell_type": "code",
      "metadata": {
        "colab": {
          "base_uri": "https://localhost:8080/",
          "height": 211
        },
        "id": "VI7sQba6i2_p",
        "outputId": "6bc64ae6-9cb1-4f68-ea96-955fbd0a99b8"
      },
      "source": [
        "df.head()"
      ],
      "execution_count": 3,
      "outputs": [
        {
          "output_type": "execute_result",
          "data": {
            "text/html": [
              "<div>\n",
              "<style scoped>\n",
              "    .dataframe tbody tr th:only-of-type {\n",
              "        vertical-align: middle;\n",
              "    }\n",
              "\n",
              "    .dataframe tbody tr th {\n",
              "        vertical-align: top;\n",
              "    }\n",
              "\n",
              "    .dataframe thead th {\n",
              "        text-align: right;\n",
              "    }\n",
              "</style>\n",
              "<table border=\"1\" class=\"dataframe\">\n",
              "  <thead>\n",
              "    <tr style=\"text-align: right;\">\n",
              "      <th></th>\n",
              "      <th>age</th>\n",
              "      <th>sex</th>\n",
              "      <th>cp</th>\n",
              "      <th>trestbps</th>\n",
              "      <th>chol</th>\n",
              "      <th>fbs</th>\n",
              "      <th>restecg</th>\n",
              "      <th>thalach</th>\n",
              "      <th>exang</th>\n",
              "      <th>oldpeak</th>\n",
              "      <th>slope</th>\n",
              "      <th>ca</th>\n",
              "      <th>thal</th>\n",
              "      <th>target</th>\n",
              "    </tr>\n",
              "  </thead>\n",
              "  <tbody>\n",
              "    <tr>\n",
              "      <th>0</th>\n",
              "      <td>63</td>\n",
              "      <td>1</td>\n",
              "      <td>3</td>\n",
              "      <td>145</td>\n",
              "      <td>233</td>\n",
              "      <td>1</td>\n",
              "      <td>0</td>\n",
              "      <td>150</td>\n",
              "      <td>0</td>\n",
              "      <td>2.3</td>\n",
              "      <td>0</td>\n",
              "      <td>0</td>\n",
              "      <td>1</td>\n",
              "      <td>1</td>\n",
              "    </tr>\n",
              "    <tr>\n",
              "      <th>1</th>\n",
              "      <td>37</td>\n",
              "      <td>1</td>\n",
              "      <td>2</td>\n",
              "      <td>130</td>\n",
              "      <td>250</td>\n",
              "      <td>0</td>\n",
              "      <td>1</td>\n",
              "      <td>187</td>\n",
              "      <td>0</td>\n",
              "      <td>3.5</td>\n",
              "      <td>0</td>\n",
              "      <td>0</td>\n",
              "      <td>2</td>\n",
              "      <td>1</td>\n",
              "    </tr>\n",
              "    <tr>\n",
              "      <th>2</th>\n",
              "      <td>41</td>\n",
              "      <td>0</td>\n",
              "      <td>1</td>\n",
              "      <td>130</td>\n",
              "      <td>204</td>\n",
              "      <td>0</td>\n",
              "      <td>0</td>\n",
              "      <td>172</td>\n",
              "      <td>0</td>\n",
              "      <td>1.4</td>\n",
              "      <td>2</td>\n",
              "      <td>0</td>\n",
              "      <td>2</td>\n",
              "      <td>1</td>\n",
              "    </tr>\n",
              "    <tr>\n",
              "      <th>3</th>\n",
              "      <td>56</td>\n",
              "      <td>1</td>\n",
              "      <td>1</td>\n",
              "      <td>120</td>\n",
              "      <td>236</td>\n",
              "      <td>0</td>\n",
              "      <td>1</td>\n",
              "      <td>178</td>\n",
              "      <td>0</td>\n",
              "      <td>0.8</td>\n",
              "      <td>2</td>\n",
              "      <td>0</td>\n",
              "      <td>2</td>\n",
              "      <td>1</td>\n",
              "    </tr>\n",
              "    <tr>\n",
              "      <th>4</th>\n",
              "      <td>57</td>\n",
              "      <td>0</td>\n",
              "      <td>0</td>\n",
              "      <td>120</td>\n",
              "      <td>354</td>\n",
              "      <td>0</td>\n",
              "      <td>1</td>\n",
              "      <td>163</td>\n",
              "      <td>1</td>\n",
              "      <td>0.6</td>\n",
              "      <td>2</td>\n",
              "      <td>0</td>\n",
              "      <td>2</td>\n",
              "      <td>1</td>\n",
              "    </tr>\n",
              "  </tbody>\n",
              "</table>\n",
              "</div>"
            ],
            "text/plain": [
              "   age  sex  cp  trestbps  chol  fbs  ...  exang  oldpeak  slope  ca  thal  target\n",
              "0   63    1   3       145   233    1  ...      0      2.3      0   0     1       1\n",
              "1   37    1   2       130   250    0  ...      0      3.5      0   0     2       1\n",
              "2   41    0   1       130   204    0  ...      0      1.4      2   0     2       1\n",
              "3   56    1   1       120   236    0  ...      0      0.8      2   0     2       1\n",
              "4   57    0   0       120   354    0  ...      1      0.6      2   0     2       1\n",
              "\n",
              "[5 rows x 14 columns]"
            ]
          },
          "metadata": {
            "tags": []
          },
          "execution_count": 3
        }
      ]
    },
    {
      "cell_type": "code",
      "metadata": {
        "colab": {
          "base_uri": "https://localhost:8080/"
        },
        "id": "59-d7KFgi4UQ",
        "outputId": "310fb2e8-6659-486f-e0a0-4ca6f16dbbf7"
      },
      "source": [
        "df.info()"
      ],
      "execution_count": 4,
      "outputs": [
        {
          "output_type": "stream",
          "text": [
            "<class 'pandas.core.frame.DataFrame'>\n",
            "RangeIndex: 303 entries, 0 to 302\n",
            "Data columns (total 14 columns):\n",
            " #   Column    Non-Null Count  Dtype  \n",
            "---  ------    --------------  -----  \n",
            " 0   age       303 non-null    int64  \n",
            " 1   sex       303 non-null    int64  \n",
            " 2   cp        303 non-null    int64  \n",
            " 3   trestbps  303 non-null    int64  \n",
            " 4   chol      303 non-null    int64  \n",
            " 5   fbs       303 non-null    int64  \n",
            " 6   restecg   303 non-null    int64  \n",
            " 7   thalach   303 non-null    int64  \n",
            " 8   exang     303 non-null    int64  \n",
            " 9   oldpeak   303 non-null    float64\n",
            " 10  slope     303 non-null    int64  \n",
            " 11  ca        303 non-null    int64  \n",
            " 12  thal      303 non-null    int64  \n",
            " 13  target    303 non-null    int64  \n",
            "dtypes: float64(1), int64(13)\n",
            "memory usage: 33.3 KB\n"
          ],
          "name": "stdout"
        }
      ]
    },
    {
      "cell_type": "markdown",
      "metadata": {
        "id": "tFt7z0atjBXZ"
      },
      "source": [
        "# Separating into train and test sets"
      ]
    },
    {
      "cell_type": "code",
      "metadata": {
        "id": "AK9jkRZOi5vB"
      },
      "source": [
        "X = df.drop('target', axis=1)\n",
        "y = df['target']"
      ],
      "execution_count": 5,
      "outputs": []
    },
    {
      "cell_type": "markdown",
      "metadata": {
        "id": "hBQXbm0gjaZh"
      },
      "source": [
        "We shall use a test size of 20% and 80% of the data will be used in training. "
      ]
    },
    {
      "cell_type": "code",
      "metadata": {
        "id": "vkBdWzDBjPFU"
      },
      "source": [
        "from sklearn.model_selection import train_test_split\n",
        "X_train, X_test, y_train, y_test = train_test_split(X, y, test_size=0.2, random_state=42)"
      ],
      "execution_count": 6,
      "outputs": []
    },
    {
      "cell_type": "code",
      "metadata": {
        "colab": {
          "base_uri": "https://localhost:8080/"
        },
        "id": "vViDYLe_jy2T",
        "outputId": "7268cea6-c143-478c-92b6-8748be5336ea"
      },
      "source": [
        "X_train.shape"
      ],
      "execution_count": 7,
      "outputs": [
        {
          "output_type": "execute_result",
          "data": {
            "text/plain": [
              "(242, 13)"
            ]
          },
          "metadata": {
            "tags": []
          },
          "execution_count": 7
        }
      ]
    },
    {
      "cell_type": "markdown",
      "metadata": {
        "id": "mLzlVc9Lj6DO"
      },
      "source": [
        "# Building the model <br>\n",
        "\n",
        "We shall create a sequential model and then add layers one at a time until we are happy with out network architechture. We shall first begin by ensuring that our input layer has the right number of input features. We shall use a sigmoid activation function in the final layer of the network. "
      ]
    },
    {
      "cell_type": "code",
      "metadata": {
        "id": "fhvoRkxVw7NS"
      },
      "source": [
        "import tensorflow as tf\n",
        "from tensorflow import keras\n",
        "\n",
        "from tensorflow.keras import Sequential\n",
        "from tensorflow.keras import layers\n",
        "from tensorflow.keras.layers import Dense"
      ],
      "execution_count": 8,
      "outputs": []
    },
    {
      "cell_type": "markdown",
      "metadata": {
        "id": "01P4prdLkX4j"
      },
      "source": [
        "## Model architechture\n",
        "\n",
        "* Input = the n features are X_train =  13\n",
        "* No of neurons/units in the first dense = 32\n",
        "* No of neurons/ units in the second dense layer  = 16\n",
        "* No of neurons/units in the third dense = 8\n",
        "* No of neurons in the output layer = 1\n",
        "\n",
        "<br> Actually deciding the no of hidden layers and no of neurons is a trial and error process. "
      ]
    },
    {
      "cell_type": "code",
      "metadata": {
        "id": "AV2IcVLZj2fT"
      },
      "source": [
        "model = Sequential()\n",
        "\n",
        "model.add(Dense(32, activation='relu', input_shape=(X_train.shape[1],)))\n",
        "model.add(Dense(16, activation='relu'))\n",
        "model.add(Dense(8, activation='relu'))\n",
        "model.add(Dense(1, activation='sigmoid'))"
      ],
      "execution_count": 9,
      "outputs": []
    },
    {
      "cell_type": "markdown",
      "metadata": {
        "id": "Z9Lg3Vvuy-2y"
      },
      "source": [
        "# Model compilation"
      ]
    },
    {
      "cell_type": "code",
      "metadata": {
        "id": "eSfqOu1Pxs26"
      },
      "source": [
        "from tensorflow.keras.optimizers import RMSprop\n",
        "\n",
        "optimizer = RMSprop(0.001)\n",
        "\n",
        "model.compile(loss='binary_crossentropy', optimizer=optimizer, metrics=['accuracy'])"
      ],
      "execution_count": 10,
      "outputs": []
    },
    {
      "cell_type": "markdown",
      "metadata": {
        "id": "hNONgCnzzXWq"
      },
      "source": [
        "In above, we compile the network. <br>\n",
        "The loss function used is the binary_crossentropy. For ninary classification problems that give output in the from of probability, the binary crossentropy is used as the optimizer of choice. \n",
        "It uses the rmsprop as the optimizer\n",
        "The learning rate of the optimizer is 0.001. <br>\n",
        "Metrics is used to evaluate the model. "
      ]
    },
    {
      "cell_type": "code",
      "metadata": {
        "colab": {
          "base_uri": "https://localhost:8080/"
        },
        "id": "P8nW0SSwzWb3",
        "outputId": "ea9651a6-9636-475d-b815-b96d76b55db1"
      },
      "source": [
        "model.summary()"
      ],
      "execution_count": 11,
      "outputs": [
        {
          "output_type": "stream",
          "text": [
            "Model: \"sequential\"\n",
            "_________________________________________________________________\n",
            "Layer (type)                 Output Shape              Param #   \n",
            "=================================================================\n",
            "dense (Dense)                (None, 32)                448       \n",
            "_________________________________________________________________\n",
            "dense_1 (Dense)              (None, 16)                528       \n",
            "_________________________________________________________________\n",
            "dense_2 (Dense)              (None, 8)                 136       \n",
            "_________________________________________________________________\n",
            "dense_3 (Dense)              (None, 1)                 9         \n",
            "=================================================================\n",
            "Total params: 1,121\n",
            "Trainable params: 1,121\n",
            "Non-trainable params: 0\n",
            "_________________________________________________________________\n"
          ],
          "name": "stdout"
        }
      ]
    },
    {
      "cell_type": "code",
      "metadata": {
        "colab": {
          "base_uri": "https://localhost:8080/",
          "height": 466
        },
        "id": "h7tD3iLR0CMq",
        "outputId": "a17ee59a-2386-4ee7-d192-32dbfc54e662"
      },
      "source": [
        "from tensorflow.keras.utils import plot_model\n",
        "plot_model(model)"
      ],
      "execution_count": 12,
      "outputs": [
        {
          "output_type": "execute_result",
          "data": {
            "image/png": "[encoded data removed]",
            "text/plain": [
              "<IPython.core.display.Image object>"
            ]
          },
          "metadata": {
            "tags": []
          },
          "execution_count": 12
        }
      ]
    },
    {
      "cell_type": "markdown",
      "metadata": {
        "id": "SeMQlmMD0TfQ"
      },
      "source": [
        "# Model training \n",
        "<br>\n",
        "We have used 200 epochs initially, and a batch size of 10. \n",
        "<br>\n",
        "The validation split is the farction of the training dataset which is used in the evaluation os the loss and model metrics on thsi data at the end of eah epoch. "
      ]
    },
    {
      "cell_type": "markdown",
      "metadata": {
        "id": "xjcTSxoJ0yhV"
      },
      "source": [
        "## History \n",
        "<br>\n",
        "We shall enable history in order to be used for plotting in the future"
      ]
    },
    {
      "cell_type": "code",
      "metadata": {
        "colab": {
          "base_uri": "https://localhost:8080/"
        },
        "id": "xZ9sT2dT0Pbk",
        "outputId": "56170fd4-42c9-45bc-c481-b9eff540f3b0"
      },
      "source": [
        "history = model.fit(X_train, y_train, validation_split=0.2, epochs=200, batch_size=10, verbose=1)"
      ],
      "execution_count": 13,
      "outputs": [
        {
          "output_type": "stream",
          "text": [
            "Epoch 1/200\n",
            "20/20 [==============================] - 1s 30ms/step - loss: 4.9731 - accuracy: 0.4711 - val_loss: 0.9477 - val_accuracy: 0.4898\n",
            "Epoch 2/200\n",
            "20/20 [==============================] - 0s 4ms/step - loss: 1.1809 - accuracy: 0.5463 - val_loss: 0.7973 - val_accuracy: 0.6735\n",
            "Epoch 3/200\n",
            "20/20 [==============================] - 0s 4ms/step - loss: 1.1586 - accuracy: 0.5418 - val_loss: 0.5654 - val_accuracy: 0.6735\n",
            "Epoch 4/200\n",
            "20/20 [==============================] - 0s 3ms/step - loss: 0.9598 - accuracy: 0.5978 - val_loss: 0.5412 - val_accuracy: 0.7755\n",
            "Epoch 5/200\n",
            "20/20 [==============================] - 0s 3ms/step - loss: 0.8739 - accuracy: 0.6424 - val_loss: 1.4819 - val_accuracy: 0.4694\n",
            "Epoch 6/200\n",
            "20/20 [==============================] - 0s 4ms/step - loss: 0.9941 - accuracy: 0.6175 - val_loss: 2.0089 - val_accuracy: 0.4286\n",
            "Epoch 7/200\n",
            "20/20 [==============================] - 0s 4ms/step - loss: 1.0669 - accuracy: 0.5823 - val_loss: 0.5493 - val_accuracy: 0.7551\n",
            "Epoch 8/200\n",
            "20/20 [==============================] - 0s 4ms/step - loss: 0.8948 - accuracy: 0.6657 - val_loss: 1.0438 - val_accuracy: 0.5306\n",
            "Epoch 9/200\n",
            "20/20 [==============================] - 0s 4ms/step - loss: 1.2329 - accuracy: 0.5227 - val_loss: 0.5295 - val_accuracy: 0.7143\n",
            "Epoch 10/200\n",
            "20/20 [==============================] - 0s 4ms/step - loss: 0.7715 - accuracy: 0.6481 - val_loss: 0.5815 - val_accuracy: 0.7347\n",
            "Epoch 11/200\n",
            "20/20 [==============================] - 0s 4ms/step - loss: 0.7032 - accuracy: 0.6896 - val_loss: 0.4668 - val_accuracy: 0.7755\n",
            "Epoch 12/200\n",
            "20/20 [==============================] - 0s 4ms/step - loss: 0.6546 - accuracy: 0.6733 - val_loss: 1.5564 - val_accuracy: 0.5714\n",
            "Epoch 13/200\n",
            "20/20 [==============================] - 0s 4ms/step - loss: 0.8607 - accuracy: 0.7129 - val_loss: 1.7747 - val_accuracy: 0.5714\n",
            "Epoch 14/200\n",
            "20/20 [==============================] - 0s 4ms/step - loss: 0.9563 - accuracy: 0.6037 - val_loss: 0.9409 - val_accuracy: 0.6327\n",
            "Epoch 15/200\n",
            "20/20 [==============================] - 0s 3ms/step - loss: 0.8825 - accuracy: 0.6079 - val_loss: 0.5004 - val_accuracy: 0.7959\n",
            "Epoch 16/200\n",
            "20/20 [==============================] - 0s 4ms/step - loss: 0.7150 - accuracy: 0.7135 - val_loss: 0.5916 - val_accuracy: 0.7551\n",
            "Epoch 17/200\n",
            "20/20 [==============================] - 0s 4ms/step - loss: 1.0672 - accuracy: 0.5683 - val_loss: 0.9386 - val_accuracy: 0.5714\n",
            "Epoch 18/200\n",
            "20/20 [==============================] - 0s 4ms/step - loss: 0.7329 - accuracy: 0.6388 - val_loss: 0.4340 - val_accuracy: 0.7551\n",
            "Epoch 19/200\n",
            "20/20 [==============================] - 0s 3ms/step - loss: 0.8213 - accuracy: 0.6266 - val_loss: 0.8137 - val_accuracy: 0.5918\n",
            "Epoch 20/200\n",
            "20/20 [==============================] - 0s 4ms/step - loss: 0.9306 - accuracy: 0.5919 - val_loss: 0.5067 - val_accuracy: 0.7551\n",
            "Epoch 21/200\n",
            "20/20 [==============================] - 0s 4ms/step - loss: 0.7416 - accuracy: 0.6922 - val_loss: 0.7728 - val_accuracy: 0.7143\n",
            "Epoch 22/200\n",
            "20/20 [==============================] - 0s 3ms/step - loss: 1.1713 - accuracy: 0.5902 - val_loss: 0.5072 - val_accuracy: 0.7551\n",
            "Epoch 23/200\n",
            "20/20 [==============================] - 0s 3ms/step - loss: 0.6810 - accuracy: 0.7085 - val_loss: 1.3400 - val_accuracy: 0.5918\n",
            "Epoch 24/200\n",
            "20/20 [==============================] - 0s 4ms/step - loss: 0.8324 - accuracy: 0.6748 - val_loss: 0.4757 - val_accuracy: 0.7755\n",
            "Epoch 25/200\n",
            "20/20 [==============================] - 0s 4ms/step - loss: 0.7057 - accuracy: 0.6811 - val_loss: 0.7980 - val_accuracy: 0.7143\n",
            "Epoch 26/200\n",
            "20/20 [==============================] - 0s 4ms/step - loss: 0.5879 - accuracy: 0.7562 - val_loss: 0.4291 - val_accuracy: 0.7755\n",
            "Epoch 27/200\n",
            "20/20 [==============================] - 0s 4ms/step - loss: 0.5685 - accuracy: 0.7293 - val_loss: 1.4221 - val_accuracy: 0.5714\n",
            "Epoch 28/200\n",
            "20/20 [==============================] - 0s 3ms/step - loss: 0.7410 - accuracy: 0.7358 - val_loss: 1.5469 - val_accuracy: 0.4490\n",
            "Epoch 29/200\n",
            "20/20 [==============================] - 0s 3ms/step - loss: 0.9634 - accuracy: 0.6466 - val_loss: 0.7195 - val_accuracy: 0.6327\n",
            "Epoch 30/200\n",
            "20/20 [==============================] - 0s 4ms/step - loss: 0.6093 - accuracy: 0.7086 - val_loss: 1.0569 - val_accuracy: 0.6122\n",
            "Epoch 31/200\n",
            "20/20 [==============================] - 0s 4ms/step - loss: 0.7027 - accuracy: 0.7255 - val_loss: 0.6664 - val_accuracy: 0.7347\n",
            "Epoch 32/200\n",
            "20/20 [==============================] - 0s 4ms/step - loss: 0.7359 - accuracy: 0.6923 - val_loss: 1.1240 - val_accuracy: 0.4898\n",
            "Epoch 33/200\n",
            "20/20 [==============================] - 0s 4ms/step - loss: 0.7195 - accuracy: 0.7006 - val_loss: 1.0911 - val_accuracy: 0.5918\n",
            "Epoch 34/200\n",
            "20/20 [==============================] - 0s 4ms/step - loss: 0.9041 - accuracy: 0.6597 - val_loss: 1.0870 - val_accuracy: 0.5918\n",
            "Epoch 35/200\n",
            "20/20 [==============================] - 0s 3ms/step - loss: 0.6635 - accuracy: 0.7013 - val_loss: 0.6496 - val_accuracy: 0.7143\n",
            "Epoch 36/200\n",
            "20/20 [==============================] - 0s 3ms/step - loss: 0.6211 - accuracy: 0.7011 - val_loss: 0.9677 - val_accuracy: 0.5102\n",
            "Epoch 37/200\n",
            "20/20 [==============================] - 0s 4ms/step - loss: 0.9244 - accuracy: 0.6478 - val_loss: 0.4270 - val_accuracy: 0.7755\n",
            "Epoch 38/200\n",
            "20/20 [==============================] - 0s 3ms/step - loss: 0.5704 - accuracy: 0.7236 - val_loss: 1.2337 - val_accuracy: 0.5714\n",
            "Epoch 39/200\n",
            "20/20 [==============================] - 0s 4ms/step - loss: 0.8449 - accuracy: 0.7186 - val_loss: 0.6477 - val_accuracy: 0.6939\n",
            "Epoch 40/200\n",
            "20/20 [==============================] - 0s 4ms/step - loss: 0.4788 - accuracy: 0.7793 - val_loss: 0.4418 - val_accuracy: 0.7755\n",
            "Epoch 41/200\n",
            "20/20 [==============================] - 0s 4ms/step - loss: 0.6744 - accuracy: 0.6978 - val_loss: 0.7939 - val_accuracy: 0.7347\n",
            "Epoch 42/200\n",
            "20/20 [==============================] - 0s 4ms/step - loss: 0.5937 - accuracy: 0.7139 - val_loss: 0.9836 - val_accuracy: 0.6735\n",
            "Epoch 43/200\n",
            "20/20 [==============================] - 0s 4ms/step - loss: 0.8156 - accuracy: 0.6466 - val_loss: 0.3978 - val_accuracy: 0.7959\n",
            "Epoch 44/200\n",
            "20/20 [==============================] - 0s 4ms/step - loss: 0.5607 - accuracy: 0.7053 - val_loss: 0.5004 - val_accuracy: 0.7551\n",
            "Epoch 45/200\n",
            "20/20 [==============================] - 0s 4ms/step - loss: 0.5204 - accuracy: 0.7374 - val_loss: 1.0077 - val_accuracy: 0.4898\n",
            "Epoch 46/200\n",
            "20/20 [==============================] - 0s 4ms/step - loss: 0.7694 - accuracy: 0.6730 - val_loss: 0.5741 - val_accuracy: 0.7959\n",
            "Epoch 47/200\n",
            "20/20 [==============================] - 0s 5ms/step - loss: 0.5580 - accuracy: 0.7285 - val_loss: 0.3821 - val_accuracy: 0.8367\n",
            "Epoch 48/200\n",
            "20/20 [==============================] - 0s 4ms/step - loss: 0.4843 - accuracy: 0.8055 - val_loss: 0.4649 - val_accuracy: 0.7755\n",
            "Epoch 49/200\n",
            "20/20 [==============================] - 0s 4ms/step - loss: 0.4576 - accuracy: 0.7642 - val_loss: 1.5464 - val_accuracy: 0.4694\n",
            "Epoch 50/200\n",
            "20/20 [==============================] - 0s 3ms/step - loss: 0.6623 - accuracy: 0.7568 - val_loss: 1.0042 - val_accuracy: 0.6735\n",
            "Epoch 51/200\n",
            "20/20 [==============================] - 0s 3ms/step - loss: 0.6978 - accuracy: 0.7307 - val_loss: 0.4707 - val_accuracy: 0.7959\n",
            "Epoch 52/200\n",
            "20/20 [==============================] - 0s 3ms/step - loss: 0.7685 - accuracy: 0.7253 - val_loss: 0.4571 - val_accuracy: 0.8163\n",
            "Epoch 53/200\n",
            "20/20 [==============================] - 0s 4ms/step - loss: 0.5489 - accuracy: 0.7290 - val_loss: 0.4493 - val_accuracy: 0.8163\n",
            "Epoch 54/200\n",
            "20/20 [==============================] - 0s 4ms/step - loss: 0.5183 - accuracy: 0.7649 - val_loss: 0.6460 - val_accuracy: 0.7143\n",
            "Epoch 55/200\n",
            "20/20 [==============================] - 0s 4ms/step - loss: 0.7087 - accuracy: 0.6825 - val_loss: 0.4031 - val_accuracy: 0.8163\n",
            "Epoch 56/200\n",
            "20/20 [==============================] - 0s 3ms/step - loss: 0.4929 - accuracy: 0.7676 - val_loss: 0.6640 - val_accuracy: 0.7755\n",
            "Epoch 57/200\n",
            "20/20 [==============================] - 0s 4ms/step - loss: 0.5069 - accuracy: 0.7546 - val_loss: 0.9054 - val_accuracy: 0.5510\n",
            "Epoch 58/200\n",
            "20/20 [==============================] - 0s 4ms/step - loss: 0.5997 - accuracy: 0.7231 - val_loss: 0.7245 - val_accuracy: 0.6939\n",
            "Epoch 59/200\n",
            "20/20 [==============================] - 0s 4ms/step - loss: 0.5211 - accuracy: 0.7733 - val_loss: 0.7639 - val_accuracy: 0.6327\n",
            "Epoch 60/200\n",
            "20/20 [==============================] - 0s 4ms/step - loss: 0.5547 - accuracy: 0.7397 - val_loss: 0.4128 - val_accuracy: 0.7959\n",
            "Epoch 61/200\n",
            "20/20 [==============================] - 0s 4ms/step - loss: 0.5516 - accuracy: 0.7600 - val_loss: 0.4471 - val_accuracy: 0.7143\n",
            "Epoch 62/200\n",
            "20/20 [==============================] - 0s 4ms/step - loss: 0.4465 - accuracy: 0.8216 - val_loss: 0.4842 - val_accuracy: 0.7347\n",
            "Epoch 63/200\n",
            "20/20 [==============================] - 0s 4ms/step - loss: 0.5557 - accuracy: 0.7109 - val_loss: 0.8717 - val_accuracy: 0.5714\n",
            "Epoch 64/200\n",
            "20/20 [==============================] - 0s 4ms/step - loss: 0.6467 - accuracy: 0.7730 - val_loss: 0.4303 - val_accuracy: 0.8163\n",
            "Epoch 65/200\n",
            "20/20 [==============================] - 0s 4ms/step - loss: 0.6541 - accuracy: 0.7080 - val_loss: 0.5081 - val_accuracy: 0.7143\n",
            "Epoch 66/200\n",
            "20/20 [==============================] - 0s 4ms/step - loss: 0.4773 - accuracy: 0.7500 - val_loss: 0.9349 - val_accuracy: 0.7143\n",
            "Epoch 67/200\n",
            "20/20 [==============================] - 0s 4ms/step - loss: 0.5234 - accuracy: 0.7516 - val_loss: 0.8465 - val_accuracy: 0.7143\n",
            "Epoch 68/200\n",
            "20/20 [==============================] - 0s 3ms/step - loss: 0.5463 - accuracy: 0.7148 - val_loss: 0.8940 - val_accuracy: 0.5714\n",
            "Epoch 69/200\n",
            "20/20 [==============================] - 0s 4ms/step - loss: 0.5705 - accuracy: 0.7299 - val_loss: 0.4635 - val_accuracy: 0.7347\n",
            "Epoch 70/200\n",
            "20/20 [==============================] - 0s 4ms/step - loss: 0.6102 - accuracy: 0.7049 - val_loss: 0.9139 - val_accuracy: 0.7143\n",
            "Epoch 71/200\n",
            "20/20 [==============================] - 0s 5ms/step - loss: 0.6212 - accuracy: 0.7897 - val_loss: 0.4774 - val_accuracy: 0.8163\n",
            "Epoch 72/200\n",
            "20/20 [==============================] - 0s 4ms/step - loss: 0.6856 - accuracy: 0.7483 - val_loss: 0.4123 - val_accuracy: 0.7959\n",
            "Epoch 73/200\n",
            "20/20 [==============================] - 0s 4ms/step - loss: 0.4742 - accuracy: 0.7685 - val_loss: 0.4321 - val_accuracy: 0.8163\n",
            "Epoch 74/200\n",
            "20/20 [==============================] - 0s 4ms/step - loss: 0.7401 - accuracy: 0.7011 - val_loss: 0.3868 - val_accuracy: 0.8367\n",
            "Epoch 75/200\n",
            "20/20 [==============================] - 0s 4ms/step - loss: 0.4548 - accuracy: 0.8233 - val_loss: 0.3977 - val_accuracy: 0.8163\n",
            "Epoch 76/200\n",
            "20/20 [==============================] - 0s 4ms/step - loss: 0.5622 - accuracy: 0.7575 - val_loss: 0.9831 - val_accuracy: 0.7143\n",
            "Epoch 77/200\n",
            "20/20 [==============================] - 0s 4ms/step - loss: 0.6057 - accuracy: 0.7914 - val_loss: 0.7089 - val_accuracy: 0.7143\n",
            "Epoch 78/200\n",
            "20/20 [==============================] - 0s 4ms/step - loss: 0.5748 - accuracy: 0.7536 - val_loss: 0.8885 - val_accuracy: 0.7143\n",
            "Epoch 79/200\n",
            "20/20 [==============================] - 0s 4ms/step - loss: 0.5869 - accuracy: 0.7535 - val_loss: 0.4983 - val_accuracy: 0.7347\n",
            "Epoch 80/200\n",
            "20/20 [==============================] - 0s 3ms/step - loss: 0.5327 - accuracy: 0.7727 - val_loss: 0.3809 - val_accuracy: 0.8163\n",
            "Epoch 81/200\n",
            "20/20 [==============================] - 0s 4ms/step - loss: 0.6786 - accuracy: 0.7031 - val_loss: 0.4346 - val_accuracy: 0.8163\n",
            "Epoch 82/200\n",
            "20/20 [==============================] - 0s 4ms/step - loss: 0.5366 - accuracy: 0.7459 - val_loss: 0.9987 - val_accuracy: 0.7143\n",
            "Epoch 83/200\n",
            "20/20 [==============================] - 0s 4ms/step - loss: 0.7461 - accuracy: 0.7096 - val_loss: 0.4828 - val_accuracy: 0.7347\n",
            "Epoch 84/200\n",
            "20/20 [==============================] - 0s 4ms/step - loss: 0.4875 - accuracy: 0.7742 - val_loss: 0.5134 - val_accuracy: 0.8163\n",
            "Epoch 85/200\n",
            "20/20 [==============================] - 0s 4ms/step - loss: 0.5158 - accuracy: 0.7200 - val_loss: 0.4644 - val_accuracy: 0.7347\n",
            "Epoch 86/200\n",
            "20/20 [==============================] - 0s 3ms/step - loss: 0.4638 - accuracy: 0.7675 - val_loss: 0.6562 - val_accuracy: 0.6939\n",
            "Epoch 87/200\n",
            "20/20 [==============================] - 0s 4ms/step - loss: 0.5567 - accuracy: 0.7738 - val_loss: 0.7214 - val_accuracy: 0.6939\n",
            "Epoch 88/200\n",
            "20/20 [==============================] - 0s 4ms/step - loss: 0.5812 - accuracy: 0.7015 - val_loss: 0.4582 - val_accuracy: 0.7551\n",
            "Epoch 89/200\n",
            "20/20 [==============================] - 0s 4ms/step - loss: 0.5964 - accuracy: 0.7486 - val_loss: 0.6611 - val_accuracy: 0.6939\n",
            "Epoch 90/200\n",
            "20/20 [==============================] - 0s 4ms/step - loss: 0.6594 - accuracy: 0.7221 - val_loss: 0.5564 - val_accuracy: 0.7551\n",
            "Epoch 91/200\n",
            "20/20 [==============================] - 0s 4ms/step - loss: 0.6076 - accuracy: 0.7489 - val_loss: 0.7435 - val_accuracy: 0.6735\n",
            "Epoch 92/200\n",
            "20/20 [==============================] - 0s 4ms/step - loss: 0.5327 - accuracy: 0.7837 - val_loss: 1.5047 - val_accuracy: 0.6122\n",
            "Epoch 93/200\n",
            "20/20 [==============================] - 0s 4ms/step - loss: 0.7930 - accuracy: 0.6794 - val_loss: 0.3791 - val_accuracy: 0.8163\n",
            "Epoch 94/200\n",
            "20/20 [==============================] - 0s 4ms/step - loss: 0.3625 - accuracy: 0.8128 - val_loss: 0.4081 - val_accuracy: 0.8163\n",
            "Epoch 95/200\n",
            "20/20 [==============================] - 0s 4ms/step - loss: 0.5720 - accuracy: 0.7589 - val_loss: 0.5131 - val_accuracy: 0.7347\n",
            "Epoch 96/200\n",
            "20/20 [==============================] - 0s 4ms/step - loss: 0.4162 - accuracy: 0.8145 - val_loss: 1.4372 - val_accuracy: 0.4898\n",
            "Epoch 97/200\n",
            "20/20 [==============================] - 0s 3ms/step - loss: 0.5046 - accuracy: 0.7837 - val_loss: 0.5018 - val_accuracy: 0.7143\n",
            "Epoch 98/200\n",
            "20/20 [==============================] - 0s 4ms/step - loss: 0.4117 - accuracy: 0.8150 - val_loss: 0.4229 - val_accuracy: 0.7755\n",
            "Epoch 99/200\n",
            "20/20 [==============================] - 0s 4ms/step - loss: 0.3862 - accuracy: 0.8359 - val_loss: 0.9610 - val_accuracy: 0.5714\n",
            "Epoch 100/200\n",
            "20/20 [==============================] - 0s 4ms/step - loss: 0.5308 - accuracy: 0.7319 - val_loss: 0.4380 - val_accuracy: 0.7347\n",
            "Epoch 101/200\n",
            "20/20 [==============================] - 0s 4ms/step - loss: 0.5098 - accuracy: 0.7508 - val_loss: 1.6398 - val_accuracy: 0.4694\n",
            "Epoch 102/200\n",
            "20/20 [==============================] - 0s 4ms/step - loss: 0.6492 - accuracy: 0.7552 - val_loss: 0.8570 - val_accuracy: 0.6327\n",
            "Epoch 103/200\n",
            "20/20 [==============================] - 0s 4ms/step - loss: 0.5076 - accuracy: 0.7665 - val_loss: 0.4020 - val_accuracy: 0.8367\n",
            "Epoch 104/200\n",
            "20/20 [==============================] - 0s 4ms/step - loss: 0.5852 - accuracy: 0.6993 - val_loss: 0.4382 - val_accuracy: 0.8367\n",
            "Epoch 105/200\n",
            "20/20 [==============================] - 0s 4ms/step - loss: 0.5851 - accuracy: 0.7179 - val_loss: 1.1255 - val_accuracy: 0.5510\n",
            "Epoch 106/200\n",
            "20/20 [==============================] - 0s 4ms/step - loss: 0.7570 - accuracy: 0.6814 - val_loss: 0.4991 - val_accuracy: 0.7347\n",
            "Epoch 107/200\n",
            "20/20 [==============================] - 0s 4ms/step - loss: 0.4285 - accuracy: 0.8408 - val_loss: 1.3282 - val_accuracy: 0.5510\n",
            "Epoch 108/200\n",
            "20/20 [==============================] - 0s 4ms/step - loss: 0.6721 - accuracy: 0.6860 - val_loss: 0.5366 - val_accuracy: 0.7347\n",
            "Epoch 109/200\n",
            "20/20 [==============================] - 0s 3ms/step - loss: 0.5307 - accuracy: 0.7750 - val_loss: 1.0475 - val_accuracy: 0.5714\n",
            "Epoch 110/200\n",
            "20/20 [==============================] - 0s 4ms/step - loss: 0.5143 - accuracy: 0.7446 - val_loss: 0.3942 - val_accuracy: 0.8367\n",
            "Epoch 111/200\n",
            "20/20 [==============================] - 0s 4ms/step - loss: 0.6294 - accuracy: 0.7322 - val_loss: 0.4165 - val_accuracy: 0.8163\n",
            "Epoch 112/200\n",
            "20/20 [==============================] - 0s 4ms/step - loss: 0.5672 - accuracy: 0.7611 - val_loss: 0.9283 - val_accuracy: 0.7347\n",
            "Epoch 113/200\n",
            "20/20 [==============================] - 0s 4ms/step - loss: 0.5408 - accuracy: 0.7423 - val_loss: 0.7046 - val_accuracy: 0.7755\n",
            "Epoch 114/200\n",
            "20/20 [==============================] - 0s 4ms/step - loss: 0.6101 - accuracy: 0.7783 - val_loss: 1.0597 - val_accuracy: 0.6939\n",
            "Epoch 115/200\n",
            "20/20 [==============================] - 0s 4ms/step - loss: 0.6345 - accuracy: 0.7527 - val_loss: 0.5557 - val_accuracy: 0.7959\n",
            "Epoch 116/200\n",
            "20/20 [==============================] - 0s 4ms/step - loss: 0.6413 - accuracy: 0.7344 - val_loss: 0.4208 - val_accuracy: 0.8163\n",
            "Epoch 117/200\n",
            "20/20 [==============================] - 0s 4ms/step - loss: 0.5843 - accuracy: 0.7663 - val_loss: 0.4020 - val_accuracy: 0.7959\n",
            "Epoch 118/200\n",
            "20/20 [==============================] - 0s 4ms/step - loss: 0.4743 - accuracy: 0.7553 - val_loss: 0.3893 - val_accuracy: 0.8367\n",
            "Epoch 119/200\n",
            "20/20 [==============================] - 0s 4ms/step - loss: 0.5110 - accuracy: 0.7809 - val_loss: 1.3760 - val_accuracy: 0.5306\n",
            "Epoch 120/200\n",
            "20/20 [==============================] - 0s 4ms/step - loss: 0.5646 - accuracy: 0.7838 - val_loss: 0.5250 - val_accuracy: 0.7755\n",
            "Epoch 121/200\n",
            "20/20 [==============================] - 0s 4ms/step - loss: 0.4895 - accuracy: 0.7605 - val_loss: 0.8267 - val_accuracy: 0.7347\n",
            "Epoch 122/200\n",
            "20/20 [==============================] - 0s 4ms/step - loss: 0.5748 - accuracy: 0.8028 - val_loss: 1.1504 - val_accuracy: 0.6735\n",
            "Epoch 123/200\n",
            "20/20 [==============================] - 0s 4ms/step - loss: 0.5980 - accuracy: 0.7408 - val_loss: 1.6281 - val_accuracy: 0.5102\n",
            "Epoch 124/200\n",
            "20/20 [==============================] - 0s 4ms/step - loss: 0.6056 - accuracy: 0.7020 - val_loss: 0.3958 - val_accuracy: 0.7959\n",
            "Epoch 125/200\n",
            "20/20 [==============================] - 0s 4ms/step - loss: 0.4393 - accuracy: 0.8315 - val_loss: 0.7522 - val_accuracy: 0.6531\n",
            "Epoch 126/200\n",
            "20/20 [==============================] - 0s 4ms/step - loss: 0.3949 - accuracy: 0.8102 - val_loss: 0.4364 - val_accuracy: 0.7551\n",
            "Epoch 127/200\n",
            "20/20 [==============================] - 0s 4ms/step - loss: 0.4755 - accuracy: 0.7516 - val_loss: 0.6245 - val_accuracy: 0.7551\n",
            "Epoch 128/200\n",
            "20/20 [==============================] - 0s 4ms/step - loss: 0.4894 - accuracy: 0.7685 - val_loss: 0.4178 - val_accuracy: 0.8163\n",
            "Epoch 129/200\n",
            "20/20 [==============================] - 0s 4ms/step - loss: 0.3507 - accuracy: 0.8650 - val_loss: 0.4664 - val_accuracy: 0.8163\n",
            "Epoch 130/200\n",
            "20/20 [==============================] - 0s 4ms/step - loss: 0.4937 - accuracy: 0.8346 - val_loss: 0.8743 - val_accuracy: 0.7347\n",
            "Epoch 131/200\n",
            "20/20 [==============================] - 0s 4ms/step - loss: 0.7055 - accuracy: 0.7533 - val_loss: 0.6025 - val_accuracy: 0.7959\n",
            "Epoch 132/200\n",
            "20/20 [==============================] - 0s 4ms/step - loss: 0.4508 - accuracy: 0.7923 - val_loss: 1.4748 - val_accuracy: 0.5102\n",
            "Epoch 133/200\n",
            "20/20 [==============================] - 0s 4ms/step - loss: 0.5746 - accuracy: 0.7789 - val_loss: 0.6522 - val_accuracy: 0.7143\n",
            "Epoch 134/200\n",
            "20/20 [==============================] - 0s 4ms/step - loss: 0.5087 - accuracy: 0.7648 - val_loss: 0.7464 - val_accuracy: 0.7551\n",
            "Epoch 135/200\n",
            "20/20 [==============================] - 0s 4ms/step - loss: 0.6397 - accuracy: 0.7211 - val_loss: 0.4070 - val_accuracy: 0.7755\n",
            "Epoch 136/200\n",
            "20/20 [==============================] - 0s 4ms/step - loss: 0.4554 - accuracy: 0.8146 - val_loss: 0.5618 - val_accuracy: 0.8163\n",
            "Epoch 137/200\n",
            "20/20 [==============================] - 0s 4ms/step - loss: 0.3533 - accuracy: 0.8309 - val_loss: 0.9368 - val_accuracy: 0.7143\n",
            "Epoch 138/200\n",
            "20/20 [==============================] - 0s 4ms/step - loss: 0.6406 - accuracy: 0.7520 - val_loss: 0.6199 - val_accuracy: 0.7959\n",
            "Epoch 139/200\n",
            "20/20 [==============================] - 0s 3ms/step - loss: 0.4031 - accuracy: 0.8264 - val_loss: 1.2387 - val_accuracy: 0.5714\n",
            "Epoch 140/200\n",
            "20/20 [==============================] - 0s 4ms/step - loss: 0.5993 - accuracy: 0.7435 - val_loss: 0.4296 - val_accuracy: 0.8367\n",
            "Epoch 141/200\n",
            "20/20 [==============================] - 0s 4ms/step - loss: 0.4257 - accuracy: 0.8075 - val_loss: 0.4165 - val_accuracy: 0.7755\n",
            "Epoch 142/200\n",
            "20/20 [==============================] - 0s 4ms/step - loss: 0.5838 - accuracy: 0.7394 - val_loss: 0.5422 - val_accuracy: 0.8163\n",
            "Epoch 143/200\n",
            "20/20 [==============================] - 0s 4ms/step - loss: 0.5043 - accuracy: 0.7870 - val_loss: 0.4292 - val_accuracy: 0.7551\n",
            "Epoch 144/200\n",
            "20/20 [==============================] - 0s 4ms/step - loss: 0.5262 - accuracy: 0.7592 - val_loss: 0.5390 - val_accuracy: 0.7551\n",
            "Epoch 145/200\n",
            "20/20 [==============================] - 0s 4ms/step - loss: 0.5459 - accuracy: 0.7381 - val_loss: 0.4759 - val_accuracy: 0.8163\n",
            "Epoch 146/200\n",
            "20/20 [==============================] - 0s 4ms/step - loss: 0.3846 - accuracy: 0.8182 - val_loss: 0.5781 - val_accuracy: 0.7347\n",
            "Epoch 147/200\n",
            "20/20 [==============================] - 0s 3ms/step - loss: 0.4290 - accuracy: 0.7840 - val_loss: 0.8697 - val_accuracy: 0.6327\n",
            "Epoch 148/200\n",
            "20/20 [==============================] - 0s 4ms/step - loss: 0.3791 - accuracy: 0.8222 - val_loss: 0.4696 - val_accuracy: 0.7755\n",
            "Epoch 149/200\n",
            "20/20 [==============================] - 0s 4ms/step - loss: 0.4384 - accuracy: 0.8229 - val_loss: 0.3973 - val_accuracy: 0.7959\n",
            "Epoch 150/200\n",
            "20/20 [==============================] - 0s 4ms/step - loss: 0.3674 - accuracy: 0.8531 - val_loss: 0.5037 - val_accuracy: 0.8163\n",
            "Epoch 151/200\n",
            "20/20 [==============================] - 0s 4ms/step - loss: 0.4486 - accuracy: 0.7824 - val_loss: 0.4072 - val_accuracy: 0.7755\n",
            "Epoch 152/200\n",
            "20/20 [==============================] - 0s 4ms/step - loss: 0.5224 - accuracy: 0.7687 - val_loss: 0.4017 - val_accuracy: 0.7959\n",
            "Epoch 153/200\n",
            "20/20 [==============================] - 0s 4ms/step - loss: 0.4273 - accuracy: 0.8093 - val_loss: 0.7410 - val_accuracy: 0.6939\n",
            "Epoch 154/200\n",
            "20/20 [==============================] - 0s 4ms/step - loss: 0.5443 - accuracy: 0.7692 - val_loss: 0.4053 - val_accuracy: 0.8367\n",
            "Epoch 155/200\n",
            "20/20 [==============================] - 0s 4ms/step - loss: 0.4772 - accuracy: 0.7482 - val_loss: 0.4051 - val_accuracy: 0.8367\n",
            "Epoch 156/200\n",
            "20/20 [==============================] - 0s 4ms/step - loss: 0.4307 - accuracy: 0.8461 - val_loss: 0.4178 - val_accuracy: 0.7755\n",
            "Epoch 157/200\n",
            "20/20 [==============================] - 0s 5ms/step - loss: 0.3689 - accuracy: 0.8487 - val_loss: 0.4710 - val_accuracy: 0.7347\n",
            "Epoch 158/200\n",
            "20/20 [==============================] - 0s 4ms/step - loss: 0.4033 - accuracy: 0.7905 - val_loss: 0.4306 - val_accuracy: 0.8367\n",
            "Epoch 159/200\n",
            "20/20 [==============================] - 0s 4ms/step - loss: 0.4151 - accuracy: 0.8412 - val_loss: 0.3987 - val_accuracy: 0.7959\n",
            "Epoch 160/200\n",
            "20/20 [==============================] - 0s 4ms/step - loss: 0.3881 - accuracy: 0.8020 - val_loss: 0.4213 - val_accuracy: 0.7755\n",
            "Epoch 161/200\n",
            "20/20 [==============================] - 0s 5ms/step - loss: 0.4750 - accuracy: 0.8093 - val_loss: 0.4019 - val_accuracy: 0.7959\n",
            "Epoch 162/200\n",
            "20/20 [==============================] - 0s 4ms/step - loss: 0.4607 - accuracy: 0.7892 - val_loss: 0.4190 - val_accuracy: 0.7755\n",
            "Epoch 163/200\n",
            "20/20 [==============================] - 0s 4ms/step - loss: 0.4108 - accuracy: 0.8486 - val_loss: 0.7605 - val_accuracy: 0.6531\n",
            "Epoch 164/200\n",
            "20/20 [==============================] - 0s 4ms/step - loss: 0.4874 - accuracy: 0.8281 - val_loss: 0.7026 - val_accuracy: 0.7551\n",
            "Epoch 165/200\n",
            "20/20 [==============================] - 0s 4ms/step - loss: 0.4523 - accuracy: 0.8235 - val_loss: 0.4104 - val_accuracy: 0.8367\n",
            "Epoch 166/200\n",
            "20/20 [==============================] - 0s 4ms/step - loss: 0.3610 - accuracy: 0.8654 - val_loss: 0.9143 - val_accuracy: 0.6327\n",
            "Epoch 167/200\n",
            "20/20 [==============================] - 0s 4ms/step - loss: 0.4560 - accuracy: 0.7883 - val_loss: 0.6071 - val_accuracy: 0.7959\n",
            "Epoch 168/200\n",
            "20/20 [==============================] - 0s 4ms/step - loss: 0.5363 - accuracy: 0.8083 - val_loss: 0.4507 - val_accuracy: 0.8163\n",
            "Epoch 169/200\n",
            "20/20 [==============================] - 0s 4ms/step - loss: 0.4125 - accuracy: 0.8350 - val_loss: 1.4060 - val_accuracy: 0.5510\n",
            "Epoch 170/200\n",
            "20/20 [==============================] - 0s 3ms/step - loss: 0.4722 - accuracy: 0.7617 - val_loss: 0.4482 - val_accuracy: 0.8163\n",
            "Epoch 171/200\n",
            "20/20 [==============================] - 0s 4ms/step - loss: 0.4934 - accuracy: 0.7798 - val_loss: 0.5016 - val_accuracy: 0.7551\n",
            "Epoch 172/200\n",
            "20/20 [==============================] - 0s 4ms/step - loss: 0.3885 - accuracy: 0.8152 - val_loss: 0.8463 - val_accuracy: 0.6327\n",
            "Epoch 173/200\n",
            "20/20 [==============================] - 0s 4ms/step - loss: 0.4507 - accuracy: 0.7660 - val_loss: 0.6170 - val_accuracy: 0.7755\n",
            "Epoch 174/200\n",
            "20/20 [==============================] - 0s 4ms/step - loss: 0.4273 - accuracy: 0.8109 - val_loss: 1.0466 - val_accuracy: 0.5918\n",
            "Epoch 175/200\n",
            "20/20 [==============================] - 0s 4ms/step - loss: 0.4339 - accuracy: 0.7883 - val_loss: 0.7252 - val_accuracy: 0.7551\n",
            "Epoch 176/200\n",
            "20/20 [==============================] - 0s 4ms/step - loss: 0.4236 - accuracy: 0.8386 - val_loss: 1.0281 - val_accuracy: 0.6122\n",
            "Epoch 177/200\n",
            "20/20 [==============================] - 0s 4ms/step - loss: 0.5440 - accuracy: 0.7379 - val_loss: 0.4357 - val_accuracy: 0.8571\n",
            "Epoch 178/200\n",
            "20/20 [==============================] - 0s 4ms/step - loss: 0.3875 - accuracy: 0.8191 - val_loss: 0.8153 - val_accuracy: 0.6327\n",
            "Epoch 179/200\n",
            "20/20 [==============================] - 0s 3ms/step - loss: 0.7676 - accuracy: 0.7051 - val_loss: 0.4159 - val_accuracy: 0.8367\n",
            "Epoch 180/200\n",
            "20/20 [==============================] - 0s 23ms/step - loss: 0.3834 - accuracy: 0.8302 - val_loss: 0.7711 - val_accuracy: 0.6531\n",
            "Epoch 181/200\n",
            "20/20 [==============================] - 0s 11ms/step - loss: 0.3236 - accuracy: 0.8825 - val_loss: 0.6920 - val_accuracy: 0.6735\n",
            "Epoch 182/200\n",
            "20/20 [==============================] - 0s 8ms/step - loss: 0.4588 - accuracy: 0.8147 - val_loss: 2.2184 - val_accuracy: 0.4490\n",
            "Epoch 183/200\n",
            "20/20 [==============================] - 0s 5ms/step - loss: 0.6985 - accuracy: 0.7509 - val_loss: 0.4014 - val_accuracy: 0.8163\n",
            "Epoch 184/200\n",
            "20/20 [==============================] - 0s 4ms/step - loss: 0.4547 - accuracy: 0.8105 - val_loss: 0.4340 - val_accuracy: 0.8367\n",
            "Epoch 185/200\n",
            "20/20 [==============================] - 0s 4ms/step - loss: 0.4202 - accuracy: 0.8212 - val_loss: 0.6497 - val_accuracy: 0.7755\n",
            "Epoch 186/200\n",
            "20/20 [==============================] - 0s 10ms/step - loss: 0.3874 - accuracy: 0.8259 - val_loss: 0.3991 - val_accuracy: 0.8367\n",
            "Epoch 187/200\n",
            "20/20 [==============================] - 0s 4ms/step - loss: 0.3509 - accuracy: 0.8590 - val_loss: 0.4041 - val_accuracy: 0.7959\n",
            "Epoch 188/200\n",
            "20/20 [==============================] - 0s 4ms/step - loss: 0.3364 - accuracy: 0.8917 - val_loss: 0.4363 - val_accuracy: 0.8367\n",
            "Epoch 189/200\n",
            "20/20 [==============================] - 0s 4ms/step - loss: 0.4304 - accuracy: 0.7995 - val_loss: 0.3959 - val_accuracy: 0.8571\n",
            "Epoch 190/200\n",
            "20/20 [==============================] - 0s 4ms/step - loss: 0.6342 - accuracy: 0.7233 - val_loss: 0.4318 - val_accuracy: 0.8367\n",
            "Epoch 191/200\n",
            "20/20 [==============================] - 0s 4ms/step - loss: 0.3846 - accuracy: 0.8468 - val_loss: 0.6622 - val_accuracy: 0.7755\n",
            "Epoch 192/200\n",
            "20/20 [==============================] - 0s 4ms/step - loss: 0.4499 - accuracy: 0.7940 - val_loss: 0.4094 - val_accuracy: 0.8571\n",
            "Epoch 193/200\n",
            "20/20 [==============================] - 0s 7ms/step - loss: 0.5134 - accuracy: 0.7927 - val_loss: 0.4005 - val_accuracy: 0.7959\n",
            "Epoch 194/200\n",
            "20/20 [==============================] - 0s 4ms/step - loss: 0.3188 - accuracy: 0.8651 - val_loss: 0.3821 - val_accuracy: 0.7959\n",
            "Epoch 195/200\n",
            "20/20 [==============================] - 0s 4ms/step - loss: 0.3646 - accuracy: 0.8782 - val_loss: 0.3822 - val_accuracy: 0.8367\n",
            "Epoch 196/200\n",
            "20/20 [==============================] - 0s 4ms/step - loss: 0.3074 - accuracy: 0.8968 - val_loss: 0.7392 - val_accuracy: 0.7551\n",
            "Epoch 197/200\n",
            "20/20 [==============================] - 0s 4ms/step - loss: 0.5403 - accuracy: 0.7873 - val_loss: 0.5640 - val_accuracy: 0.7959\n",
            "Epoch 198/200\n",
            "20/20 [==============================] - 0s 4ms/step - loss: 0.4115 - accuracy: 0.7926 - val_loss: 0.5369 - val_accuracy: 0.8163\n",
            "Epoch 199/200\n",
            "20/20 [==============================] - 0s 4ms/step - loss: 0.5606 - accuracy: 0.7438 - val_loss: 0.3894 - val_accuracy: 0.8163\n",
            "Epoch 200/200\n",
            "20/20 [==============================] - 0s 4ms/step - loss: 0.4039 - accuracy: 0.8200 - val_loss: 0.3717 - val_accuracy: 0.8367\n"
          ],
          "name": "stdout"
        }
      ]
    },
    {
      "cell_type": "markdown",
      "metadata": {
        "id": "mkYFDO661d_6"
      },
      "source": [
        "# Model evaluation"
      ]
    },
    {
      "cell_type": "code",
      "metadata": {
        "colab": {
          "base_uri": "https://localhost:8080/"
        },
        "id": "2WCeztuC1JgG",
        "outputId": "0e7a169e-2a3d-4651-f83c-0828cba61a1f"
      },
      "source": [
        "model.evaluate(X_test, y_test)"
      ],
      "execution_count": 14,
      "outputs": [
        {
          "output_type": "stream",
          "text": [
            "2/2 [==============================] - 0s 6ms/step - loss: 0.6229 - accuracy: 0.8033\n"
          ],
          "name": "stdout"
        },
        {
          "output_type": "execute_result",
          "data": {
            "text/plain": [
              "[0.6229196786880493, 0.8032786846160889]"
            ]
          },
          "metadata": {
            "tags": []
          },
          "execution_count": 14
        }
      ]
    },
    {
      "cell_type": "markdown",
      "metadata": {
        "id": "_hzuuEhQ1_xl"
      },
      "source": [
        "# Model accuracy "
      ]
    },
    {
      "cell_type": "code",
      "metadata": {
        "colab": {
          "base_uri": "https://localhost:8080/",
          "height": 295
        },
        "id": "E8Ar6vSE1mZG",
        "outputId": "57fd8b86-f14a-4416-b8c2-91b2f9ffb6ef"
      },
      "source": [
        "plt.plot(history.history['accuracy'])\n",
        "plt.plot(history.history['val_accuracy'])\n",
        "plt.title('Model Accuracy')\n",
        "plt.ylabel('accuracy')\n",
        "plt.xlabel('epoch')\n",
        "plt.legend(['Train', 'Validation'])\n",
        "plt.show()"
      ],
      "execution_count": 15,
      "outputs": [
        {
          "output_type": "display_data",
          "data": {
            "image/png": "[encoded data removed]",
            "text/plain": [
              "<Figure size 432x288 with 1 Axes>"
            ]
          },
          "metadata": {
            "tags": [],
            "needs_background": "light"
          }
        }
      ]
    },
    {
      "cell_type": "markdown",
      "metadata": {
        "id": "m2PqX16c2l7i"
      },
      "source": [
        "# Model Loss"
      ]
    },
    {
      "cell_type": "code",
      "metadata": {
        "colab": {
          "base_uri": "https://localhost:8080/",
          "height": 295
        },
        "id": "HEz95UcU2d7l",
        "outputId": "815cf63a-39b8-4c40-bc04-74446670960b"
      },
      "source": [
        "plt.plot(history.history['loss'])\n",
        "plt.plot(history.history['val_loss'])\n",
        "plt.title('Model Loss')\n",
        "plt.ylabel('loss')\n",
        "plt.xlabel('epoch')\n",
        "plt.legend(['Train', 'Validation'])\n",
        "plt.show()"
      ],
      "execution_count": 16,
      "outputs": [
        {
          "output_type": "display_data",
          "data": {
            "image/png": "[encoded data removed]",
            "text/plain": [
              "<Figure size 432x288 with 1 Axes>"
            ]
          },
          "metadata": {
            "tags": [],
            "needs_background": "light"
          }
        }
      ]
    },
    {
      "cell_type": "code",
      "metadata": {
        "id": "Z_P-mV8w2ypM"
      },
      "source": [
        ""
      ],
      "execution_count": 16,
      "outputs": []
    }
  ]
}