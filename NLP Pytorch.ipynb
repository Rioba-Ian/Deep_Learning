{
 "cells": [
  {
   "cell_type": "markdown",
   "id": "9b9eaaee",
   "metadata": {},
   "source": [
    "# Classifying names with a character level RNN\n",
    "we will buuild and train a basic character level RNN so as to classfiy words. A character-level RNN reads words as series of characters-outputting a predction and hidden state at each state. "
   ]
  },
  {
   "cell_type": "code",
   "execution_count": 1,
   "id": "f6f6ac59",
   "metadata": {},
   "outputs": [],
   "source": [
    "from __future__ import unicode_literals, print_function, division\n",
    "from io import open \n",
    "import glob \n",
    "import os"
   ]
  },
  {
   "cell_type": "code",
   "execution_count": 3,
   "id": "a9bf800d",
   "metadata": {},
   "outputs": [
    {
     "name": "stdout",
     "output_type": "stream",
     "text": [
      "['data/names/Spanish.txt', 'data/names/Italian.txt', 'data/names/Russian.txt', 'data/names/English.txt', 'data/names/Portuguese.txt', 'data/names/Vietnamese.txt', 'data/names/German.txt', 'data/names/Czech.txt', 'data/names/Chinese.txt', 'data/names/Japanese.txt', 'data/names/Arabic.txt', 'data/names/French.txt', 'data/names/Greek.txt', 'data/names/Dutch.txt', 'data/names/Polish.txt', 'data/names/Irish.txt', 'data/names/Scottish.txt', 'data/names/Korean.txt']\n"
     ]
    }
   ],
   "source": [
    "def findFiles(path):\n",
    "    return glob.glob(path)\n",
    "print(findFiles('data/names/*.txt'))"
   ]
  },
  {
   "cell_type": "code",
   "execution_count": 4,
   "id": "d38969cf",
   "metadata": {},
   "outputs": [],
   "source": [
    "import unicodedata\n",
    "import string"
   ]
  },
  {
   "cell_type": "code",
   "execution_count": 6,
   "id": "b670ee8c",
   "metadata": {},
   "outputs": [
    {
     "data": {
      "text/plain": [
       "56"
      ]
     },
     "execution_count": 6,
     "metadata": {},
     "output_type": "execute_result"
    }
   ],
   "source": [
    "all_letters = string.ascii_letters + \".,;'\"\n",
    "n_letters = len(all_letters)\n",
    "n_letters"
   ]
  },
  {
   "cell_type": "code",
   "execution_count": 8,
   "id": "60469be7",
   "metadata": {},
   "outputs": [
    {
     "name": "stdout",
     "output_type": "stream",
     "text": [
      "Slusarski\n"
     ]
    }
   ],
   "source": [
    "#turn a unicode string to plain ASCII \n",
    "def unicodeToAscii(s):\n",
    "    return ''.join(\n",
    "    c for c in unicodedata.normalize('NFD',s)\n",
    "        if unicodedata.category(c) != 'Mn'\n",
    "        and c in all_letters\n",
    "    )\n",
    "print(unicodeToAscii('Ślusàrski'))"
   ]
  },
  {
   "cell_type": "code",
   "execution_count": 11,
   "id": "a3adc619",
   "metadata": {},
   "outputs": [],
   "source": [
    "# build the category_lines dictionary, a list of names per language \n",
    "category_lines = {}\n",
    "all_categories = []\n"
   ]
  },
  {
   "cell_type": "code",
   "execution_count": 16,
   "id": "3ead06e7",
   "metadata": {},
   "outputs": [],
   "source": [
    "# read a file and split into lines \n",
    "def readLines(filename):\n",
    "    lines = open(filename, encoding = 'utf-8').read().strip().split('\\n')\n",
    "    return [unicodeToAscii(line) for line in lines]\n",
    "\n",
    "for filename in findFiles('data/names/*.txt'):\n",
    "    category = os.path.splitext(os.path.basename(filename))[0]\n",
    "    all_categories.append(category)\n",
    "    lines = readLines(filename)\n",
    "    category_lines[category] = lines\n",
    "\n",
    "n_categories = len(all_categories)"
   ]
  },
  {
   "cell_type": "code",
   "execution_count": 19,
   "id": "d7eb308d",
   "metadata": {},
   "outputs": [
    {
     "name": "stdout",
     "output_type": "stream",
     "text": [
      "['Abandonato', 'Abatangelo', 'Abatantuono', 'Abate', 'Abategiovanni']\n"
     ]
    }
   ],
   "source": [
    "print(category_lines['Italian'][:5])"
   ]
  },
  {
   "cell_type": "markdown",
   "id": "0953f40e",
   "metadata": {},
   "source": [
    "# Tensoring"
   ]
  },
  {
   "cell_type": "code",
   "execution_count": 20,
   "id": "530fb122",
   "metadata": {},
   "outputs": [],
   "source": [
    "import torch "
   ]
  },
  {
   "cell_type": "code",
   "execution_count": 21,
   "id": "079f050e",
   "metadata": {},
   "outputs": [],
   "source": [
    "# find letter index from all_letters e.g. \"a\"=0\n",
    "def letterToIndex(letter):\n",
    "    return all_letters.find(letter)"
   ]
  },
  {
   "cell_type": "code",
   "execution_count": 22,
   "id": "2a9c11ec",
   "metadata": {},
   "outputs": [],
   "source": [
    "# just for demonstration, turna letter into a <1 x n_letters> tensor\n",
    "def letterToTensor(letter):\n",
    "    tensor = torch.zeros(1, n_letters)\n",
    "    tensor[0][letterToIndex(letter)] = 1\n",
    "    return tensor"
   ]
  },
  {
   "cell_type": "code",
   "execution_count": 24,
   "id": "2ca5347b",
   "metadata": {},
   "outputs": [
    {
     "name": "stdout",
     "output_type": "stream",
     "text": [
      "tensor([[0., 0., 0., 0., 0., 0., 0., 0., 0., 0., 0., 0., 0., 0., 0., 0., 0., 0.,\n",
      "         0., 0., 0., 0., 0., 0., 0., 0., 0., 0., 0., 0., 0., 0., 0., 0., 0., 1.,\n",
      "         0., 0., 0., 0., 0., 0., 0., 0., 0., 0., 0., 0., 0., 0., 0., 0., 0., 0.,\n",
      "         0., 0.]])\n",
      "torch.Size([5, 1, 56])\n"
     ]
    }
   ],
   "source": [
    "# turn a line into a <line_length x 1 x n_letters>\n",
    "# or an array of one-hot letter vectors\n",
    "def lineToTensor(line):\n",
    "    tensor = torch.zeros(len(line), 1, n_letters)\n",
    "    for li, letter in enumerate(line):\n",
    "        tensor[li][0][letterToIndex(letter)] = 1\n",
    "    return tensor\n",
    "\n",
    "print(letterToTensor('J'))\n",
    "print(lineToTensor('Jones').size())"
   ]
  },
  {
   "cell_type": "markdown",
   "id": "d568d136",
   "metadata": {},
   "source": [
    "# The Network"
   ]
  },
  {
   "cell_type": "code",
   "execution_count": 25,
   "id": "db4b88ae",
   "metadata": {},
   "outputs": [],
   "source": [
    "import torch.nn as nn\n",
    "\n",
    "class RNN(nn.Module):\n",
    "    def __init__(self, input_size, hidden_size, output_size):\n",
    "        super(RNN, self).__init__()\n",
    "        \n",
    "        self.hidden_size = hidden_size\n",
    "        self.i2h = nn.Linear(input_size + hidden_size, hidden_size)\n",
    "        self.i2o = nn.Linear(input_size + hidden_size, output_size)\n",
    "        self.softmax = nn.LogSoftmax(dim=1)\n",
    "        \n",
    "    def forward(self, input, hidden):\n",
    "        combined = torch.cat((input, hidden),1)\n",
    "        hidden = self.i2h(combined)\n",
    "        output = self.i2o(combined)\n",
    "        output = self.softmax(output)\n",
    "        return output, hidden\n",
    "    \n",
    "    def initHidden(self):\n",
    "        return torch.zeros(1, self.hidden_size)\n",
    "    \n",
    "n_hidden = 128 \n",
    "rnn = RNN(n_letters, n_hidden, n_categories)"
   ]
  },
  {
   "cell_type": "code",
   "execution_count": 26,
   "id": "c5960cea",
   "metadata": {},
   "outputs": [],
   "source": [
    "input = letterToTensor('A')\n",
    "hidden = torch.zeros(1, n_hidden)\n",
    "\n",
    "output, next_hidden = rnn(input, hidden)"
   ]
  },
  {
   "cell_type": "code",
   "execution_count": 27,
   "id": "93624a59",
   "metadata": {},
   "outputs": [
    {
     "name": "stdout",
     "output_type": "stream",
     "text": [
      "tensor([[-4.5993, -4.4781, -4.5394, -4.5135, -4.4901, -4.4754, -4.4634, -4.5495,\n",
      "         -4.5020, -4.4541, -4.4472, -4.4134, -4.4810, -4.4794, -4.3953, -4.5835,\n",
      "         -4.5299, -4.4436, -4.4269, -4.5931, -4.5380, -4.5474, -4.4301, -4.5450,\n",
      "         -4.5239, -4.5026, -4.5475, -4.3960, -4.4237, -4.5589, -4.5682, -4.4009,\n",
      "         -4.5023, -4.5279, -4.5071, -4.4991, -4.6321, -4.6006, -4.4927, -4.5936,\n",
      "         -4.5649, -4.4286, -4.5457, -4.4979, -4.5659, -4.4036, -4.4951, -4.5450,\n",
      "         -4.5729, -4.5292, -4.3895, -4.4629, -4.5873, -4.4409, -4.5072, -4.4192,\n",
      "         -4.5848, -4.5284, -4.4283, -4.5069, -4.4286, -4.4896, -4.5211, -4.4521,\n",
      "         -4.4650, -4.3833, -4.4914, -4.4856, -4.4716, -4.4385, -4.4729, -4.4210,\n",
      "         -4.5761, -4.5340, -4.5851, -4.4759, -4.4894, -4.5260, -4.4831, -4.5799,\n",
      "         -4.4180, -4.4093, -4.5140, -4.5379, -4.5244, -4.6102, -4.5645, -4.5207,\n",
      "         -4.5529, -4.5225]], grad_fn=<LogSoftmaxBackward0>)\n"
     ]
    }
   ],
   "source": [
    "input = lineToTensor('Albert')\n",
    "hidden = torch.zeros(1, n_hidden)\n",
    "\n",
    "output, next_hidden = rnn(input[0], hidden)\n",
    "print(output)"
   ]
  },
  {
   "cell_type": "markdown",
   "id": "7c9de569",
   "metadata": {},
   "source": [
    "# Training\n",
    "## Preparing for training "
   ]
  },
  {
   "cell_type": "code",
   "execution_count": 29,
   "id": "16dc71bf",
   "metadata": {},
   "outputs": [
    {
     "name": "stdout",
     "output_type": "stream",
     "text": [
      "('French', 65)\n"
     ]
    }
   ],
   "source": [
    "def categoryFromOutput(output):\n",
    "    top_n, top_i = output.topk(1)\n",
    "    category_i = top_i[0].item()\n",
    "    return all_categories[category_i], category_i\n",
    "\n",
    "print(categoryFromOutput(output))"
   ]
  },
  {
   "cell_type": "code",
   "execution_count": 33,
   "id": "830c18e0",
   "metadata": {},
   "outputs": [
    {
     "name": "stdout",
     "output_type": "stream",
     "text": [
      "category = Greek / line = Pispinis\n",
      "category = Polish / line = Marszaek\n",
      "category = Greek / line = Louverdis\n",
      "category = Japanese / line = Takagaki\n",
      "category = English / line = Kidner\n",
      "category = Dutch / line = Penders\n",
      "category = French / line = Monette\n",
      "category = French / line = Glaisyer\n",
      "category = Vietnamese / line = Tron\n",
      "category = Chinese / line = Loong\n"
     ]
    }
   ],
   "source": [
    "import random  \n",
    "\n",
    "def randomChoice(l):\n",
    "    return l[random.randint(0, len(l) -1)]\n",
    "\n",
    "def randomTrainingExample():\n",
    "    category = randomChoice(all_categories)\n",
    "    line = randomChoice(category_lines[category])\n",
    "    category_tensor = torch.tensor([all_categories.index(category)], dtype=torch.long)\n",
    "    line_tensor = lineToTensor(line)\n",
    "    return category, line, category_tensor, line_tensor\n",
    "\n",
    "for i in range(10):\n",
    "    category, line, category_tensor, line_tensor = randomTrainingExample()\n",
    "    print('category =', category, '/ line =', line)"
   ]
  },
  {
   "cell_type": "markdown",
   "id": "5069d4d1",
   "metadata": {},
   "source": [
    "## Training the network"
   ]
  },
  {
   "cell_type": "code",
   "execution_count": 34,
   "id": "65b928ee",
   "metadata": {},
   "outputs": [],
   "source": [
    "criterion = nn.NLLLoss()"
   ]
  },
  {
   "cell_type": "code",
   "execution_count": 35,
   "id": "7298f4aa",
   "metadata": {},
   "outputs": [],
   "source": [
    "lr = 0.005\n",
    "\n",
    "def train(category_tensor, line_tensor):\n",
    "    hidden = rnn.initHidden()\n",
    "    \n",
    "    rnn.zero_grad()\n",
    "    \n",
    "    for i in range(line_tensor.size()[0]):\n",
    "        output, hidden = rnn(line_tensor[i], hidden)\n",
    "        \n",
    "    loss = criterion(output, category_tensor)\n",
    "    loss.backward()\n",
    "    \n",
    "    # add parameters' gradients to tehir values, multiplied by lr \n",
    "    for p in rnn.parameters():\n",
    "        p.data.add_(p.grad.data, alpha=-lr)\n",
    "        \n",
    "    return output, loss.item()"
   ]
  },
  {
   "cell_type": "code",
   "execution_count": 37,
   "id": "766e1fc6",
   "metadata": {},
   "outputs": [
    {
     "name": "stdout",
     "output_type": "stream",
     "text": [
      "5000 5% (0m 8s) 3.3898 Ola / Chinese ✗ (Spanish)\n",
      "10000 10% (0m 17s) 1.7707 Oquendo / Italian ✗ (Spanish)\n",
      "15000 15% (0m 25s) 2.8700 Zaruba / Japanese ✗ (Czech)\n",
      "20000 20% (0m 34s) 2.8164 Gaspar / Arabic ✗ (Portuguese)\n",
      "25000 25% (0m 43s) 3.4401 Albuquerque / Irish ✗ (Portuguese)\n",
      "30000 30% (0m 55s) 0.5688 Ricci / Italian /\n",
      "35000 35% (1m 8s) 4.1272 Baum / Vietnamese ✗ (German)\n",
      "40000 40% (1m 19s) 1.8887 Como / Japanese ✗ (Italian)\n",
      "45000 45% (1m 28s) 1.1672 Sortras / Portuguese ✗ (Greek)\n",
      "50000 50% (1m 37s) 0.4424 Mikolajczak / Polish /\n",
      "55000 55% (1m 46s) 1.0996 Halabi / Arabic /\n",
      "60000 60% (1m 56s) 2.0970 Campo / Italian ✗ (Spanish)\n",
      "65000 65% (2m 7s) 1.4252 Kacirek / Portuguese ✗ (Czech)\n",
      "70000 70% (2m 18s) 0.8958 Metzger / German /\n",
      "75000 75% (2m 29s) 0.8939 Knochenmus / German /\n",
      "80000 80% (2m 39s) 0.4361 Wawrzaszek / Polish /\n",
      "85000 85% (2m 49s) 0.3737 Parisi / Italian /\n",
      "90000 90% (3m 0s) 0.5347 Ma / Korean /\n",
      "95000 95% (3m 11s) 1.4496 Jewitt / English /\n",
      "100000 100% (3m 22s) 0.7667 Nakanoi / Japanese /\n"
     ]
    }
   ],
   "source": [
    "import time \n",
    "import math \n",
    "\n",
    "n_iters = 100000\n",
    "print_every = 5000 \n",
    "plot_every = 1000\n",
    "\n",
    "# keep track of losses for plotting \n",
    "current_loss = 0 \n",
    "all_losses = []\n",
    "\n",
    "def timeSince(since):\n",
    "    now = time.time()\n",
    "    s = now - since\n",
    "    m = math.floor(s / 60)\n",
    "    s -= m* 60 \n",
    "    return '%dm %ds' % (m,s)\n",
    "\n",
    "start = time.time()\n",
    "\n",
    "for iter in range(1, n_iters +1):\n",
    "    category, line, category_tensor, line_tensor = randomTrainingExample()\n",
    "    output, loss = train(category_tensor, line_tensor)\n",
    "    current_loss += loss\n",
    "    \n",
    "    #print iter number, loss, name and guess\n",
    "    if iter % print_every == 0:\n",
    "        guess, guess_i = categoryFromOutput(output)\n",
    "        correct = '✓' if guess == category else '✗ (%s)' % category\n",
    "        print('%d %d%% (%s) %.4f %s / %s %s' % (iter, iter / n_iters * 100, timeSince(start), loss, line, guess, correct))\n",
    "        \n",
    "        #add current loss avg to list of losses \n",
    "        if iter % plot_every == 0:\n",
    "            all_losses.append(current_loss / plot_every)\n",
    "            current_loss = 0"
   ]
  },
  {
   "cell_type": "markdown",
   "id": "e6662203",
   "metadata": {},
   "source": [
    "# Plotting the results\n"
   ]
  },
  {
   "cell_type": "code",
   "execution_count": 38,
   "id": "5f846cb7",
   "metadata": {},
   "outputs": [],
   "source": [
    "import matplotlib.pyplot as plt \n",
    "import matplotlib.ticker as ticker"
   ]
  },
  {
   "cell_type": "code",
   "execution_count": 39,
   "id": "ea4f8422",
   "metadata": {},
   "outputs": [
    {
     "data": {
      "text/plain": [
       "[<matplotlib.lines.Line2D at 0x7fc261db1310>]"
      ]
     },
     "execution_count": 39,
     "metadata": {},
     "output_type": "execute_result"
    },
    {
     "data": {
      "image/png": "[encoded data removed]",
      "text/plain": [
       "<Figure size 432x288 with 1 Axes>"
      ]
     },
     "metadata": {
      "needs_background": "light"
     },
     "output_type": "display_data"
    }
   ],
   "source": [
    "plt.figure()\n",
    "plt.plot(all_losses)"
   ]
  },
  {
   "cell_type": "code",
   "execution_count": null,
   "id": "c20406ff",
   "metadata": {},
   "outputs": [],
   "source": []
  }
 ],
 "metadata": {
  "kernelspec": {
   "display_name": "Python 3.9.7 64-bit",
   "language": "python",
   "name": "python397jvsc74a57bd0e7370f93d1d0cde622a1f8e1c04877d8463912d04d973331ad4851f04de6915a"
  },
  "language_info": {
   "codemirror_mode": {
    "name": "ipython",
    "version": 3
   },
   "file_extension": ".py",
   "mimetype": "text/x-python",
   "name": "python",
   "nbconvert_exporter": "python",
   "pygments_lexer": "ipython3",
   "version": "3.10.1"
  }
 },
 "nbformat": 4,
 "nbformat_minor": 5
}
